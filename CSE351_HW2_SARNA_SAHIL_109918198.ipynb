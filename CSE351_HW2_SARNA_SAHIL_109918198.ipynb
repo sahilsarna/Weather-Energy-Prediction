{
 "cells": [
  {
   "cell_type": "markdown",
   "metadata": {},
   "source": [
    "# CSE351 HOMEWORK 2\n",
    "## SAHIL SARNA\n",
    "## 109918198"
   ]
  },
  {
   "cell_type": "markdown",
   "metadata": {},
   "source": [
    "Import Libraries"
   ]
  },
  {
   "cell_type": "code",
   "execution_count": 272,
   "metadata": {},
   "outputs": [],
   "source": [
    "import numpy as np\n",
    "import pandas as pd\n",
    "import seaborn as sns\n",
    "from scipy import stats\n",
    "import matplotlib.pyplot as plt\n",
    "import os\n",
    "from datetime import datetime\n",
    "from sklearn.linear_model import LinearRegression\n",
    "from sklearn.linear_model import LogisticRegression\n",
    "from sklearn.feature_selection import RFE\n",
    "from sklearn.metrics import r2_score\n",
    "from sklearn.utils import resample\n",
    "from sklearn import metrics\n",
    "import statsmodels.api as sm\n",
    "a4_dims = (11.7, 8.27)"
   ]
  },
  {
   "cell_type": "markdown",
   "metadata": {},
   "source": [
    "Import Data\n"
   ]
  },
  {
   "cell_type": "code",
   "execution_count": 273,
   "metadata": {},
   "outputs": [],
   "source": [
    "weatherData = pd.read_csv(\"/Users/sahilsarna/Documents/CSE351/HW2/weather_data.csv\")\n",
    "energyData = pd.read_csv(\"/Users/sahilsarna/Documents/CSE351/HW2/energy_data.csv\", parse_dates=['Date & Time'])"
   ]
  },
  {
   "cell_type": "markdown",
   "metadata": {},
   "source": [
    "Check Data"
   ]
  },
  {
   "cell_type": "code",
   "execution_count": 274,
   "metadata": {},
   "outputs": [
    {
     "data": {
      "text/html": [
       "<div>\n",
       "<style scoped>\n",
       "    .dataframe tbody tr th:only-of-type {\n",
       "        vertical-align: middle;\n",
       "    }\n",
       "\n",
       "    .dataframe tbody tr th {\n",
       "        vertical-align: top;\n",
       "    }\n",
       "\n",
       "    .dataframe thead th {\n",
       "        text-align: right;\n",
       "    }\n",
       "</style>\n",
       "<table border=\"1\" class=\"dataframe\">\n",
       "  <thead>\n",
       "    <tr style=\"text-align: right;\">\n",
       "      <th></th>\n",
       "      <th>temperature</th>\n",
       "      <th>icon</th>\n",
       "      <th>humidity</th>\n",
       "      <th>visibility</th>\n",
       "      <th>summary</th>\n",
       "      <th>pressure</th>\n",
       "      <th>windSpeed</th>\n",
       "      <th>cloudCover</th>\n",
       "      <th>time</th>\n",
       "      <th>windBearing</th>\n",
       "      <th>precipIntensity</th>\n",
       "      <th>dewPoint</th>\n",
       "      <th>precipProbability</th>\n",
       "    </tr>\n",
       "  </thead>\n",
       "  <tbody>\n",
       "    <tr>\n",
       "      <th>0</th>\n",
       "      <td>34.98</td>\n",
       "      <td>partly-cloudy-night</td>\n",
       "      <td>0.64</td>\n",
       "      <td>10.00</td>\n",
       "      <td>Partly Cloudy</td>\n",
       "      <td>1017.69</td>\n",
       "      <td>7.75</td>\n",
       "      <td>0.29</td>\n",
       "      <td>1388534400</td>\n",
       "      <td>279</td>\n",
       "      <td>0.0</td>\n",
       "      <td>23.89</td>\n",
       "      <td>0.0</td>\n",
       "    </tr>\n",
       "    <tr>\n",
       "      <th>1</th>\n",
       "      <td>16.49</td>\n",
       "      <td>clear-night</td>\n",
       "      <td>0.62</td>\n",
       "      <td>10.00</td>\n",
       "      <td>Clear</td>\n",
       "      <td>1022.76</td>\n",
       "      <td>2.71</td>\n",
       "      <td>0.06</td>\n",
       "      <td>1388538000</td>\n",
       "      <td>195</td>\n",
       "      <td>0.0</td>\n",
       "      <td>5.87</td>\n",
       "      <td>0.0</td>\n",
       "    </tr>\n",
       "    <tr>\n",
       "      <th>2</th>\n",
       "      <td>14.63</td>\n",
       "      <td>clear-night</td>\n",
       "      <td>0.68</td>\n",
       "      <td>10.00</td>\n",
       "      <td>Clear</td>\n",
       "      <td>1022.32</td>\n",
       "      <td>4.84</td>\n",
       "      <td>0.03</td>\n",
       "      <td>1388541600</td>\n",
       "      <td>222</td>\n",
       "      <td>0.0</td>\n",
       "      <td>6.17</td>\n",
       "      <td>0.0</td>\n",
       "    </tr>\n",
       "    <tr>\n",
       "      <th>3</th>\n",
       "      <td>13.31</td>\n",
       "      <td>clear-night</td>\n",
       "      <td>0.71</td>\n",
       "      <td>10.00</td>\n",
       "      <td>Clear</td>\n",
       "      <td>1021.64</td>\n",
       "      <td>4.00</td>\n",
       "      <td>0.14</td>\n",
       "      <td>1388545200</td>\n",
       "      <td>209</td>\n",
       "      <td>0.0</td>\n",
       "      <td>5.63</td>\n",
       "      <td>0.0</td>\n",
       "    </tr>\n",
       "    <tr>\n",
       "      <th>4</th>\n",
       "      <td>13.57</td>\n",
       "      <td>clear-night</td>\n",
       "      <td>0.71</td>\n",
       "      <td>9.93</td>\n",
       "      <td>Clear</td>\n",
       "      <td>1020.73</td>\n",
       "      <td>3.67</td>\n",
       "      <td>0.04</td>\n",
       "      <td>1388548800</td>\n",
       "      <td>217</td>\n",
       "      <td>0.0</td>\n",
       "      <td>5.87</td>\n",
       "      <td>0.0</td>\n",
       "    </tr>\n",
       "  </tbody>\n",
       "</table>\n",
       "</div>"
      ],
      "text/plain": [
       "   temperature                 icon  humidity  visibility        summary  \\\n",
       "0        34.98  partly-cloudy-night      0.64       10.00  Partly Cloudy   \n",
       "1        16.49          clear-night      0.62       10.00          Clear   \n",
       "2        14.63          clear-night      0.68       10.00          Clear   \n",
       "3        13.31          clear-night      0.71       10.00          Clear   \n",
       "4        13.57          clear-night      0.71        9.93          Clear   \n",
       "\n",
       "   pressure  windSpeed  cloudCover        time  windBearing  precipIntensity  \\\n",
       "0   1017.69       7.75        0.29  1388534400          279              0.0   \n",
       "1   1022.76       2.71        0.06  1388538000          195              0.0   \n",
       "2   1022.32       4.84        0.03  1388541600          222              0.0   \n",
       "3   1021.64       4.00        0.14  1388545200          209              0.0   \n",
       "4   1020.73       3.67        0.04  1388548800          217              0.0   \n",
       "\n",
       "   dewPoint  precipProbability  \n",
       "0     23.89                0.0  \n",
       "1      5.87                0.0  \n",
       "2      6.17                0.0  \n",
       "3      5.63                0.0  \n",
       "4      5.87                0.0  "
      ]
     },
     "execution_count": 274,
     "metadata": {},
     "output_type": "execute_result"
    }
   ],
   "source": [
    "weatherData.head()"
   ]
  },
  {
   "cell_type": "code",
   "execution_count": 275,
   "metadata": {},
   "outputs": [
    {
     "data": {
      "text/html": [
       "<div>\n",
       "<style scoped>\n",
       "    .dataframe tbody tr th:only-of-type {\n",
       "        vertical-align: middle;\n",
       "    }\n",
       "\n",
       "    .dataframe tbody tr th {\n",
       "        vertical-align: top;\n",
       "    }\n",
       "\n",
       "    .dataframe thead th {\n",
       "        text-align: right;\n",
       "    }\n",
       "</style>\n",
       "<table border=\"1\" class=\"dataframe\">\n",
       "  <thead>\n",
       "    <tr style=\"text-align: right;\">\n",
       "      <th></th>\n",
       "      <th>Date &amp; Time</th>\n",
       "      <th>use [kW]</th>\n",
       "      <th>gen [kW]</th>\n",
       "      <th>Grid [kW]</th>\n",
       "      <th>AC [kW]</th>\n",
       "      <th>Furnace [kW]</th>\n",
       "      <th>Cellar Lights [kW]</th>\n",
       "      <th>Washer [kW]</th>\n",
       "      <th>First Floor lights [kW]</th>\n",
       "      <th>Utility Rm + Basement Bath [kW]</th>\n",
       "      <th>Garage outlets [kW]</th>\n",
       "      <th>MBed + KBed outlets [kW]</th>\n",
       "      <th>Dryer + egauge [kW]</th>\n",
       "      <th>Panel GFI (central vac) [kW]</th>\n",
       "      <th>Home Office (R) [kW]</th>\n",
       "      <th>Dining room (R) [kW]</th>\n",
       "      <th>Microwave (R) [kW]</th>\n",
       "      <th>Fridge (R) [kW]</th>\n",
       "    </tr>\n",
       "  </thead>\n",
       "  <tbody>\n",
       "    <tr>\n",
       "      <th>0</th>\n",
       "      <td>2014-01-01 00:00:00</td>\n",
       "      <td>0.304439</td>\n",
       "      <td>0</td>\n",
       "      <td>0.304439</td>\n",
       "      <td>0.000058</td>\n",
       "      <td>0.009531</td>\n",
       "      <td>0.005336</td>\n",
       "      <td>0.000126</td>\n",
       "      <td>0.011175</td>\n",
       "      <td>0.003836</td>\n",
       "      <td>0.004836</td>\n",
       "      <td>0.002132</td>\n",
       "      <td>0.000009</td>\n",
       "      <td>0.007159</td>\n",
       "      <td>0.063666</td>\n",
       "      <td>0.004299</td>\n",
       "      <td>0.004733</td>\n",
       "      <td>0.042589</td>\n",
       "    </tr>\n",
       "    <tr>\n",
       "      <th>1</th>\n",
       "      <td>2014-01-01 00:30:00</td>\n",
       "      <td>0.656771</td>\n",
       "      <td>0</td>\n",
       "      <td>0.656771</td>\n",
       "      <td>0.001534</td>\n",
       "      <td>0.364338</td>\n",
       "      <td>0.005522</td>\n",
       "      <td>0.000043</td>\n",
       "      <td>0.003514</td>\n",
       "      <td>0.003512</td>\n",
       "      <td>0.004888</td>\n",
       "      <td>0.002137</td>\n",
       "      <td>0.000107</td>\n",
       "      <td>0.007221</td>\n",
       "      <td>0.064698</td>\n",
       "      <td>0.003589</td>\n",
       "      <td>0.004445</td>\n",
       "      <td>0.096008</td>\n",
       "    </tr>\n",
       "    <tr>\n",
       "      <th>2</th>\n",
       "      <td>2014-01-01 01:00:00</td>\n",
       "      <td>0.612895</td>\n",
       "      <td>0</td>\n",
       "      <td>0.612895</td>\n",
       "      <td>0.001847</td>\n",
       "      <td>0.417989</td>\n",
       "      <td>0.005504</td>\n",
       "      <td>0.000044</td>\n",
       "      <td>0.003528</td>\n",
       "      <td>0.003484</td>\n",
       "      <td>0.004929</td>\n",
       "      <td>0.002052</td>\n",
       "      <td>0.000170</td>\n",
       "      <td>0.007197</td>\n",
       "      <td>0.065109</td>\n",
       "      <td>0.003522</td>\n",
       "      <td>0.004396</td>\n",
       "      <td>0.025928</td>\n",
       "    </tr>\n",
       "    <tr>\n",
       "      <th>3</th>\n",
       "      <td>2014-01-01 01:30:00</td>\n",
       "      <td>0.683979</td>\n",
       "      <td>0</td>\n",
       "      <td>0.683979</td>\n",
       "      <td>0.001744</td>\n",
       "      <td>0.410653</td>\n",
       "      <td>0.005556</td>\n",
       "      <td>0.000059</td>\n",
       "      <td>0.003499</td>\n",
       "      <td>0.003476</td>\n",
       "      <td>0.004911</td>\n",
       "      <td>0.002068</td>\n",
       "      <td>0.000121</td>\n",
       "      <td>0.007236</td>\n",
       "      <td>0.065032</td>\n",
       "      <td>0.003404</td>\n",
       "      <td>0.004262</td>\n",
       "      <td>0.105472</td>\n",
       "    </tr>\n",
       "    <tr>\n",
       "      <th>4</th>\n",
       "      <td>2014-01-01 02:00:00</td>\n",
       "      <td>0.197809</td>\n",
       "      <td>0</td>\n",
       "      <td>0.197809</td>\n",
       "      <td>0.000030</td>\n",
       "      <td>0.017152</td>\n",
       "      <td>0.005302</td>\n",
       "      <td>0.000119</td>\n",
       "      <td>0.003694</td>\n",
       "      <td>0.003865</td>\n",
       "      <td>0.004876</td>\n",
       "      <td>0.002087</td>\n",
       "      <td>0.000052</td>\n",
       "      <td>0.007133</td>\n",
       "      <td>0.062451</td>\n",
       "      <td>0.003915</td>\n",
       "      <td>0.004407</td>\n",
       "      <td>0.016798</td>\n",
       "    </tr>\n",
       "  </tbody>\n",
       "</table>\n",
       "</div>"
      ],
      "text/plain": [
       "          Date & Time  use [kW]  gen [kW]  Grid [kW]   AC [kW]  Furnace [kW]  \\\n",
       "0 2014-01-01 00:00:00  0.304439         0   0.304439  0.000058      0.009531   \n",
       "1 2014-01-01 00:30:00  0.656771         0   0.656771  0.001534      0.364338   \n",
       "2 2014-01-01 01:00:00  0.612895         0   0.612895  0.001847      0.417989   \n",
       "3 2014-01-01 01:30:00  0.683979         0   0.683979  0.001744      0.410653   \n",
       "4 2014-01-01 02:00:00  0.197809         0   0.197809  0.000030      0.017152   \n",
       "\n",
       "   Cellar Lights [kW]  Washer [kW]  First Floor lights [kW]  \\\n",
       "0            0.005336     0.000126                 0.011175   \n",
       "1            0.005522     0.000043                 0.003514   \n",
       "2            0.005504     0.000044                 0.003528   \n",
       "3            0.005556     0.000059                 0.003499   \n",
       "4            0.005302     0.000119                 0.003694   \n",
       "\n",
       "   Utility Rm + Basement Bath [kW]  Garage outlets [kW]  \\\n",
       "0                         0.003836             0.004836   \n",
       "1                         0.003512             0.004888   \n",
       "2                         0.003484             0.004929   \n",
       "3                         0.003476             0.004911   \n",
       "4                         0.003865             0.004876   \n",
       "\n",
       "   MBed + KBed outlets [kW]  Dryer + egauge [kW]  \\\n",
       "0                  0.002132             0.000009   \n",
       "1                  0.002137             0.000107   \n",
       "2                  0.002052             0.000170   \n",
       "3                  0.002068             0.000121   \n",
       "4                  0.002087             0.000052   \n",
       "\n",
       "   Panel GFI (central vac) [kW]  Home Office (R) [kW]  Dining room (R) [kW]  \\\n",
       "0                      0.007159              0.063666              0.004299   \n",
       "1                      0.007221              0.064698              0.003589   \n",
       "2                      0.007197              0.065109              0.003522   \n",
       "3                      0.007236              0.065032              0.003404   \n",
       "4                      0.007133              0.062451              0.003915   \n",
       "\n",
       "   Microwave (R) [kW]  Fridge (R) [kW]  \n",
       "0            0.004733         0.042589  \n",
       "1            0.004445         0.096008  \n",
       "2            0.004396         0.025928  \n",
       "3            0.004262         0.105472  \n",
       "4            0.004407         0.016798  "
      ]
     },
     "execution_count": 275,
     "metadata": {},
     "output_type": "execute_result"
    }
   ],
   "source": [
    "energyData.head()"
   ]
  },
  {
   "cell_type": "markdown",
   "metadata": {},
   "source": [
    "### TASK 1"
   ]
  },
  {
   "cell_type": "markdown",
   "metadata": {},
   "source": [
    "###### Change Unix time to Datetime in Weather Dataset"
   ]
  },
  {
   "cell_type": "code",
   "execution_count": 276,
   "metadata": {},
   "outputs": [],
   "source": [
    "timeData = weatherData['time']"
   ]
  },
  {
   "cell_type": "markdown",
   "metadata": {},
   "source": [
    "Changing Time"
   ]
  },
  {
   "cell_type": "code",
   "execution_count": 277,
   "metadata": {},
   "outputs": [
    {
     "name": "stderr",
     "output_type": "stream",
     "text": [
      "/anaconda3/lib/python3.7/site-packages/ipykernel_launcher.py:3: SettingWithCopyWarning: \n",
      "A value is trying to be set on a copy of a slice from a DataFrame\n",
      "\n",
      "See the caveats in the documentation: https://pandas.pydata.org/pandas-docs/stable/user_guide/indexing.html#returning-a-view-versus-a-copy\n",
      "  This is separate from the ipykernel package so we can avoid doing imports until\n",
      "/anaconda3/lib/python3.7/site-packages/pandas/core/indexing.py:670: SettingWithCopyWarning: \n",
      "A value is trying to be set on a copy of a slice from a DataFrame\n",
      "\n",
      "See the caveats in the documentation: https://pandas.pydata.org/pandas-docs/stable/user_guide/indexing.html#returning-a-view-versus-a-copy\n",
      "  iloc._setitem_with_indexer(indexer, value)\n"
     ]
    }
   ],
   "source": [
    "for x in range(timeData.size):\n",
    "    newTime = datetime.utcfromtimestamp(timeData[x]).strftime('%Y-%m-%d %H:%M:%S')\n",
    "    timeData[x] = newTime"
   ]
  },
  {
   "cell_type": "markdown",
   "metadata": {},
   "source": [
    "Check the result after changing values"
   ]
  },
  {
   "cell_type": "code",
   "execution_count": 278,
   "metadata": {},
   "outputs": [
    {
     "data": {
      "text/plain": [
       "0    2014-01-01 00:00:00\n",
       "1    2014-01-01 01:00:00\n",
       "2    2014-01-01 02:00:00\n",
       "3    2014-01-01 03:00:00\n",
       "4    2014-01-01 04:00:00\n",
       "Name: time, dtype: object"
      ]
     },
     "execution_count": 278,
     "metadata": {},
     "output_type": "execute_result"
    }
   ],
   "source": [
    "timeData.head()"
   ]
  },
  {
   "cell_type": "markdown",
   "metadata": {},
   "source": [
    "Putting the time data back in the Weather Dataset"
   ]
  },
  {
   "cell_type": "code",
   "execution_count": 279,
   "metadata": {},
   "outputs": [],
   "source": [
    "weatherData['time'] = timeData"
   ]
  },
  {
   "cell_type": "code",
   "execution_count": 280,
   "metadata": {},
   "outputs": [
    {
     "data": {
      "text/html": [
       "<div>\n",
       "<style scoped>\n",
       "    .dataframe tbody tr th:only-of-type {\n",
       "        vertical-align: middle;\n",
       "    }\n",
       "\n",
       "    .dataframe tbody tr th {\n",
       "        vertical-align: top;\n",
       "    }\n",
       "\n",
       "    .dataframe thead th {\n",
       "        text-align: right;\n",
       "    }\n",
       "</style>\n",
       "<table border=\"1\" class=\"dataframe\">\n",
       "  <thead>\n",
       "    <tr style=\"text-align: right;\">\n",
       "      <th></th>\n",
       "      <th>temperature</th>\n",
       "      <th>icon</th>\n",
       "      <th>humidity</th>\n",
       "      <th>visibility</th>\n",
       "      <th>summary</th>\n",
       "      <th>pressure</th>\n",
       "      <th>windSpeed</th>\n",
       "      <th>cloudCover</th>\n",
       "      <th>time</th>\n",
       "      <th>windBearing</th>\n",
       "      <th>precipIntensity</th>\n",
       "      <th>dewPoint</th>\n",
       "      <th>precipProbability</th>\n",
       "    </tr>\n",
       "  </thead>\n",
       "  <tbody>\n",
       "    <tr>\n",
       "      <th>0</th>\n",
       "      <td>34.98</td>\n",
       "      <td>partly-cloudy-night</td>\n",
       "      <td>0.64</td>\n",
       "      <td>10.00</td>\n",
       "      <td>Partly Cloudy</td>\n",
       "      <td>1017.69</td>\n",
       "      <td>7.75</td>\n",
       "      <td>0.29</td>\n",
       "      <td>2014-01-01 00:00:00</td>\n",
       "      <td>279</td>\n",
       "      <td>0.0</td>\n",
       "      <td>23.89</td>\n",
       "      <td>0.0</td>\n",
       "    </tr>\n",
       "    <tr>\n",
       "      <th>1</th>\n",
       "      <td>16.49</td>\n",
       "      <td>clear-night</td>\n",
       "      <td>0.62</td>\n",
       "      <td>10.00</td>\n",
       "      <td>Clear</td>\n",
       "      <td>1022.76</td>\n",
       "      <td>2.71</td>\n",
       "      <td>0.06</td>\n",
       "      <td>2014-01-01 01:00:00</td>\n",
       "      <td>195</td>\n",
       "      <td>0.0</td>\n",
       "      <td>5.87</td>\n",
       "      <td>0.0</td>\n",
       "    </tr>\n",
       "    <tr>\n",
       "      <th>2</th>\n",
       "      <td>14.63</td>\n",
       "      <td>clear-night</td>\n",
       "      <td>0.68</td>\n",
       "      <td>10.00</td>\n",
       "      <td>Clear</td>\n",
       "      <td>1022.32</td>\n",
       "      <td>4.84</td>\n",
       "      <td>0.03</td>\n",
       "      <td>2014-01-01 02:00:00</td>\n",
       "      <td>222</td>\n",
       "      <td>0.0</td>\n",
       "      <td>6.17</td>\n",
       "      <td>0.0</td>\n",
       "    </tr>\n",
       "    <tr>\n",
       "      <th>3</th>\n",
       "      <td>13.31</td>\n",
       "      <td>clear-night</td>\n",
       "      <td>0.71</td>\n",
       "      <td>10.00</td>\n",
       "      <td>Clear</td>\n",
       "      <td>1021.64</td>\n",
       "      <td>4.00</td>\n",
       "      <td>0.14</td>\n",
       "      <td>2014-01-01 03:00:00</td>\n",
       "      <td>209</td>\n",
       "      <td>0.0</td>\n",
       "      <td>5.63</td>\n",
       "      <td>0.0</td>\n",
       "    </tr>\n",
       "    <tr>\n",
       "      <th>4</th>\n",
       "      <td>13.57</td>\n",
       "      <td>clear-night</td>\n",
       "      <td>0.71</td>\n",
       "      <td>9.93</td>\n",
       "      <td>Clear</td>\n",
       "      <td>1020.73</td>\n",
       "      <td>3.67</td>\n",
       "      <td>0.04</td>\n",
       "      <td>2014-01-01 04:00:00</td>\n",
       "      <td>217</td>\n",
       "      <td>0.0</td>\n",
       "      <td>5.87</td>\n",
       "      <td>0.0</td>\n",
       "    </tr>\n",
       "  </tbody>\n",
       "</table>\n",
       "</div>"
      ],
      "text/plain": [
       "   temperature                 icon  humidity  visibility        summary  \\\n",
       "0        34.98  partly-cloudy-night      0.64       10.00  Partly Cloudy   \n",
       "1        16.49          clear-night      0.62       10.00          Clear   \n",
       "2        14.63          clear-night      0.68       10.00          Clear   \n",
       "3        13.31          clear-night      0.71       10.00          Clear   \n",
       "4        13.57          clear-night      0.71        9.93          Clear   \n",
       "\n",
       "   pressure  windSpeed  cloudCover                 time  windBearing  \\\n",
       "0   1017.69       7.75        0.29  2014-01-01 00:00:00          279   \n",
       "1   1022.76       2.71        0.06  2014-01-01 01:00:00          195   \n",
       "2   1022.32       4.84        0.03  2014-01-01 02:00:00          222   \n",
       "3   1021.64       4.00        0.14  2014-01-01 03:00:00          209   \n",
       "4   1020.73       3.67        0.04  2014-01-01 04:00:00          217   \n",
       "\n",
       "   precipIntensity  dewPoint  precipProbability  \n",
       "0              0.0     23.89                0.0  \n",
       "1              0.0      5.87                0.0  \n",
       "2              0.0      6.17                0.0  \n",
       "3              0.0      5.63                0.0  \n",
       "4              0.0      5.87                0.0  "
      ]
     },
     "execution_count": 280,
     "metadata": {},
     "output_type": "execute_result"
    }
   ],
   "source": [
    "weatherData.head()"
   ]
  },
  {
   "cell_type": "markdown",
   "metadata": {},
   "source": [
    "###### Collapsing Energy Data to get Per Day values by taking the <b>sum</b> for all values on each day"
   ]
  },
  {
   "cell_type": "code",
   "execution_count": 281,
   "metadata": {},
   "outputs": [
    {
     "data": {
      "text/html": [
       "<div>\n",
       "<style scoped>\n",
       "    .dataframe tbody tr th:only-of-type {\n",
       "        vertical-align: middle;\n",
       "    }\n",
       "\n",
       "    .dataframe tbody tr th {\n",
       "        vertical-align: top;\n",
       "    }\n",
       "\n",
       "    .dataframe thead th {\n",
       "        text-align: right;\n",
       "    }\n",
       "</style>\n",
       "<table border=\"1\" class=\"dataframe\">\n",
       "  <thead>\n",
       "    <tr style=\"text-align: right;\">\n",
       "      <th></th>\n",
       "      <th>Date &amp; Time</th>\n",
       "      <th>use [kW]</th>\n",
       "      <th>gen [kW]</th>\n",
       "      <th>Grid [kW]</th>\n",
       "      <th>AC [kW]</th>\n",
       "      <th>Furnace [kW]</th>\n",
       "      <th>Cellar Lights [kW]</th>\n",
       "      <th>Washer [kW]</th>\n",
       "      <th>First Floor lights [kW]</th>\n",
       "      <th>Utility Rm + Basement Bath [kW]</th>\n",
       "      <th>Garage outlets [kW]</th>\n",
       "      <th>MBed + KBed outlets [kW]</th>\n",
       "      <th>Dryer + egauge [kW]</th>\n",
       "      <th>Panel GFI (central vac) [kW]</th>\n",
       "      <th>Home Office (R) [kW]</th>\n",
       "      <th>Dining room (R) [kW]</th>\n",
       "      <th>Microwave (R) [kW]</th>\n",
       "      <th>Fridge (R) [kW]</th>\n",
       "    </tr>\n",
       "  </thead>\n",
       "  <tbody>\n",
       "    <tr>\n",
       "      <th>0</th>\n",
       "      <td>2014-01-01 00:00:00</td>\n",
       "      <td>0.304439</td>\n",
       "      <td>0</td>\n",
       "      <td>0.304439</td>\n",
       "      <td>0.000058</td>\n",
       "      <td>0.009531</td>\n",
       "      <td>0.005336</td>\n",
       "      <td>0.000126</td>\n",
       "      <td>0.011175</td>\n",
       "      <td>0.003836</td>\n",
       "      <td>0.004836</td>\n",
       "      <td>0.002132</td>\n",
       "      <td>0.000009</td>\n",
       "      <td>0.007159</td>\n",
       "      <td>0.063666</td>\n",
       "      <td>0.004299</td>\n",
       "      <td>0.004733</td>\n",
       "      <td>0.042589</td>\n",
       "    </tr>\n",
       "    <tr>\n",
       "      <th>1</th>\n",
       "      <td>2014-01-01 00:30:00</td>\n",
       "      <td>0.656771</td>\n",
       "      <td>0</td>\n",
       "      <td>0.656771</td>\n",
       "      <td>0.001534</td>\n",
       "      <td>0.364338</td>\n",
       "      <td>0.005522</td>\n",
       "      <td>0.000043</td>\n",
       "      <td>0.003514</td>\n",
       "      <td>0.003512</td>\n",
       "      <td>0.004888</td>\n",
       "      <td>0.002137</td>\n",
       "      <td>0.000107</td>\n",
       "      <td>0.007221</td>\n",
       "      <td>0.064698</td>\n",
       "      <td>0.003589</td>\n",
       "      <td>0.004445</td>\n",
       "      <td>0.096008</td>\n",
       "    </tr>\n",
       "    <tr>\n",
       "      <th>2</th>\n",
       "      <td>2014-01-01 01:00:00</td>\n",
       "      <td>0.612895</td>\n",
       "      <td>0</td>\n",
       "      <td>0.612895</td>\n",
       "      <td>0.001847</td>\n",
       "      <td>0.417989</td>\n",
       "      <td>0.005504</td>\n",
       "      <td>0.000044</td>\n",
       "      <td>0.003528</td>\n",
       "      <td>0.003484</td>\n",
       "      <td>0.004929</td>\n",
       "      <td>0.002052</td>\n",
       "      <td>0.000170</td>\n",
       "      <td>0.007197</td>\n",
       "      <td>0.065109</td>\n",
       "      <td>0.003522</td>\n",
       "      <td>0.004396</td>\n",
       "      <td>0.025928</td>\n",
       "    </tr>\n",
       "    <tr>\n",
       "      <th>3</th>\n",
       "      <td>2014-01-01 01:30:00</td>\n",
       "      <td>0.683979</td>\n",
       "      <td>0</td>\n",
       "      <td>0.683979</td>\n",
       "      <td>0.001744</td>\n",
       "      <td>0.410653</td>\n",
       "      <td>0.005556</td>\n",
       "      <td>0.000059</td>\n",
       "      <td>0.003499</td>\n",
       "      <td>0.003476</td>\n",
       "      <td>0.004911</td>\n",
       "      <td>0.002068</td>\n",
       "      <td>0.000121</td>\n",
       "      <td>0.007236</td>\n",
       "      <td>0.065032</td>\n",
       "      <td>0.003404</td>\n",
       "      <td>0.004262</td>\n",
       "      <td>0.105472</td>\n",
       "    </tr>\n",
       "    <tr>\n",
       "      <th>4</th>\n",
       "      <td>2014-01-01 02:00:00</td>\n",
       "      <td>0.197809</td>\n",
       "      <td>0</td>\n",
       "      <td>0.197809</td>\n",
       "      <td>0.000030</td>\n",
       "      <td>0.017152</td>\n",
       "      <td>0.005302</td>\n",
       "      <td>0.000119</td>\n",
       "      <td>0.003694</td>\n",
       "      <td>0.003865</td>\n",
       "      <td>0.004876</td>\n",
       "      <td>0.002087</td>\n",
       "      <td>0.000052</td>\n",
       "      <td>0.007133</td>\n",
       "      <td>0.062451</td>\n",
       "      <td>0.003915</td>\n",
       "      <td>0.004407</td>\n",
       "      <td>0.016798</td>\n",
       "    </tr>\n",
       "  </tbody>\n",
       "</table>\n",
       "</div>"
      ],
      "text/plain": [
       "          Date & Time  use [kW]  gen [kW]  Grid [kW]   AC [kW]  Furnace [kW]  \\\n",
       "0 2014-01-01 00:00:00  0.304439         0   0.304439  0.000058      0.009531   \n",
       "1 2014-01-01 00:30:00  0.656771         0   0.656771  0.001534      0.364338   \n",
       "2 2014-01-01 01:00:00  0.612895         0   0.612895  0.001847      0.417989   \n",
       "3 2014-01-01 01:30:00  0.683979         0   0.683979  0.001744      0.410653   \n",
       "4 2014-01-01 02:00:00  0.197809         0   0.197809  0.000030      0.017152   \n",
       "\n",
       "   Cellar Lights [kW]  Washer [kW]  First Floor lights [kW]  \\\n",
       "0            0.005336     0.000126                 0.011175   \n",
       "1            0.005522     0.000043                 0.003514   \n",
       "2            0.005504     0.000044                 0.003528   \n",
       "3            0.005556     0.000059                 0.003499   \n",
       "4            0.005302     0.000119                 0.003694   \n",
       "\n",
       "   Utility Rm + Basement Bath [kW]  Garage outlets [kW]  \\\n",
       "0                         0.003836             0.004836   \n",
       "1                         0.003512             0.004888   \n",
       "2                         0.003484             0.004929   \n",
       "3                         0.003476             0.004911   \n",
       "4                         0.003865             0.004876   \n",
       "\n",
       "   MBed + KBed outlets [kW]  Dryer + egauge [kW]  \\\n",
       "0                  0.002132             0.000009   \n",
       "1                  0.002137             0.000107   \n",
       "2                  0.002052             0.000170   \n",
       "3                  0.002068             0.000121   \n",
       "4                  0.002087             0.000052   \n",
       "\n",
       "   Panel GFI (central vac) [kW]  Home Office (R) [kW]  Dining room (R) [kW]  \\\n",
       "0                      0.007159              0.063666              0.004299   \n",
       "1                      0.007221              0.064698              0.003589   \n",
       "2                      0.007197              0.065109              0.003522   \n",
       "3                      0.007236              0.065032              0.003404   \n",
       "4                      0.007133              0.062451              0.003915   \n",
       "\n",
       "   Microwave (R) [kW]  Fridge (R) [kW]  \n",
       "0            0.004733         0.042589  \n",
       "1            0.004445         0.096008  \n",
       "2            0.004396         0.025928  \n",
       "3            0.004262         0.105472  \n",
       "4            0.004407         0.016798  "
      ]
     },
     "execution_count": 281,
     "metadata": {},
     "output_type": "execute_result"
    }
   ],
   "source": [
    "energyData.head()"
   ]
  },
  {
   "cell_type": "code",
   "execution_count": 282,
   "metadata": {},
   "outputs": [],
   "source": [
    "collapsedEnergyData = energyData.set_index('Date & Time').groupby(pd.Grouper(freq='d')).sum().dropna(how='all')"
   ]
  },
  {
   "cell_type": "markdown",
   "metadata": {},
   "source": [
    "Collapsed Energy Data that gives Energy Usage per day"
   ]
  },
  {
   "cell_type": "code",
   "execution_count": 283,
   "metadata": {},
   "outputs": [
    {
     "data": {
      "text/html": [
       "<div>\n",
       "<style scoped>\n",
       "    .dataframe tbody tr th:only-of-type {\n",
       "        vertical-align: middle;\n",
       "    }\n",
       "\n",
       "    .dataframe tbody tr th {\n",
       "        vertical-align: top;\n",
       "    }\n",
       "\n",
       "    .dataframe thead th {\n",
       "        text-align: right;\n",
       "    }\n",
       "</style>\n",
       "<table border=\"1\" class=\"dataframe\">\n",
       "  <thead>\n",
       "    <tr style=\"text-align: right;\">\n",
       "      <th></th>\n",
       "      <th>use [kW]</th>\n",
       "      <th>gen [kW]</th>\n",
       "      <th>Grid [kW]</th>\n",
       "      <th>AC [kW]</th>\n",
       "      <th>Furnace [kW]</th>\n",
       "      <th>Cellar Lights [kW]</th>\n",
       "      <th>Washer [kW]</th>\n",
       "      <th>First Floor lights [kW]</th>\n",
       "      <th>Utility Rm + Basement Bath [kW]</th>\n",
       "      <th>Garage outlets [kW]</th>\n",
       "      <th>MBed + KBed outlets [kW]</th>\n",
       "      <th>Dryer + egauge [kW]</th>\n",
       "      <th>Panel GFI (central vac) [kW]</th>\n",
       "      <th>Home Office (R) [kW]</th>\n",
       "      <th>Dining room (R) [kW]</th>\n",
       "      <th>Microwave (R) [kW]</th>\n",
       "      <th>Fridge (R) [kW]</th>\n",
       "    </tr>\n",
       "    <tr>\n",
       "      <th>Date &amp; Time</th>\n",
       "      <th></th>\n",
       "      <th></th>\n",
       "      <th></th>\n",
       "      <th></th>\n",
       "      <th></th>\n",
       "      <th></th>\n",
       "      <th></th>\n",
       "      <th></th>\n",
       "      <th></th>\n",
       "      <th></th>\n",
       "      <th></th>\n",
       "      <th></th>\n",
       "      <th></th>\n",
       "      <th></th>\n",
       "      <th></th>\n",
       "      <th></th>\n",
       "      <th></th>\n",
       "    </tr>\n",
       "  </thead>\n",
       "  <tbody>\n",
       "    <tr>\n",
       "      <th>2014-01-01</th>\n",
       "      <td>65.013592</td>\n",
       "      <td>0</td>\n",
       "      <td>65.013592</td>\n",
       "      <td>0.042977</td>\n",
       "      <td>8.814319</td>\n",
       "      <td>1.137579</td>\n",
       "      <td>0.750298</td>\n",
       "      <td>0.567603</td>\n",
       "      <td>0.178529</td>\n",
       "      <td>0.261094</td>\n",
       "      <td>0.254839</td>\n",
       "      <td>31.938131</td>\n",
       "      <td>0.350291</td>\n",
       "      <td>3.272944</td>\n",
       "      <td>0.200970</td>\n",
       "      <td>4.997037</td>\n",
       "      <td>4.639598</td>\n",
       "    </tr>\n",
       "    <tr>\n",
       "      <th>2014-01-02</th>\n",
       "      <td>25.558434</td>\n",
       "      <td>0</td>\n",
       "      <td>25.558434</td>\n",
       "      <td>0.027648</td>\n",
       "      <td>6.628469</td>\n",
       "      <td>0.663398</td>\n",
       "      <td>0.005676</td>\n",
       "      <td>0.489726</td>\n",
       "      <td>0.182251</td>\n",
       "      <td>0.354491</td>\n",
       "      <td>1.059051</td>\n",
       "      <td>0.003269</td>\n",
       "      <td>0.346756</td>\n",
       "      <td>4.567906</td>\n",
       "      <td>0.224794</td>\n",
       "      <td>1.517176</td>\n",
       "      <td>3.820418</td>\n",
       "    </tr>\n",
       "    <tr>\n",
       "      <th>2014-01-03</th>\n",
       "      <td>61.066203</td>\n",
       "      <td>0</td>\n",
       "      <td>61.066203</td>\n",
       "      <td>0.045582</td>\n",
       "      <td>10.429788</td>\n",
       "      <td>0.539824</td>\n",
       "      <td>1.140676</td>\n",
       "      <td>0.409804</td>\n",
       "      <td>0.178256</td>\n",
       "      <td>0.359359</td>\n",
       "      <td>0.309177</td>\n",
       "      <td>34.948484</td>\n",
       "      <td>0.351175</td>\n",
       "      <td>4.767804</td>\n",
       "      <td>0.195952</td>\n",
       "      <td>1.534685</td>\n",
       "      <td>3.588311</td>\n",
       "    </tr>\n",
       "    <tr>\n",
       "      <th>2014-01-04</th>\n",
       "      <td>20.099577</td>\n",
       "      <td>0</td>\n",
       "      <td>20.099577</td>\n",
       "      <td>0.017047</td>\n",
       "      <td>4.021342</td>\n",
       "      <td>0.535128</td>\n",
       "      <td>0.004272</td>\n",
       "      <td>0.278514</td>\n",
       "      <td>0.182690</td>\n",
       "      <td>0.284474</td>\n",
       "      <td>0.217449</td>\n",
       "      <td>0.002434</td>\n",
       "      <td>0.343668</td>\n",
       "      <td>3.471117</td>\n",
       "      <td>0.211874</td>\n",
       "      <td>0.808600</td>\n",
       "      <td>4.109569</td>\n",
       "    </tr>\n",
       "    <tr>\n",
       "      <th>2014-01-05</th>\n",
       "      <td>16.245747</td>\n",
       "      <td>0</td>\n",
       "      <td>16.245747</td>\n",
       "      <td>0.008735</td>\n",
       "      <td>1.887036</td>\n",
       "      <td>0.495392</td>\n",
       "      <td>0.004844</td>\n",
       "      <td>0.260665</td>\n",
       "      <td>0.185596</td>\n",
       "      <td>0.308522</td>\n",
       "      <td>0.303430</td>\n",
       "      <td>0.001639</td>\n",
       "      <td>0.337773</td>\n",
       "      <td>3.629159</td>\n",
       "      <td>0.235630</td>\n",
       "      <td>0.901771</td>\n",
       "      <td>3.608974</td>\n",
       "    </tr>\n",
       "    <tr>\n",
       "      <th>...</th>\n",
       "      <td>...</td>\n",
       "      <td>...</td>\n",
       "      <td>...</td>\n",
       "      <td>...</td>\n",
       "      <td>...</td>\n",
       "      <td>...</td>\n",
       "      <td>...</td>\n",
       "      <td>...</td>\n",
       "      <td>...</td>\n",
       "      <td>...</td>\n",
       "      <td>...</td>\n",
       "      <td>...</td>\n",
       "      <td>...</td>\n",
       "      <td>...</td>\n",
       "      <td>...</td>\n",
       "      <td>...</td>\n",
       "      <td>...</td>\n",
       "    </tr>\n",
       "    <tr>\n",
       "      <th>2014-12-27</th>\n",
       "      <td>35.046127</td>\n",
       "      <td>0</td>\n",
       "      <td>35.046127</td>\n",
       "      <td>0.029014</td>\n",
       "      <td>4.306682</td>\n",
       "      <td>0.475110</td>\n",
       "      <td>0.019649</td>\n",
       "      <td>0.825872</td>\n",
       "      <td>0.112661</td>\n",
       "      <td>0.255620</td>\n",
       "      <td>5.422751</td>\n",
       "      <td>0.005953</td>\n",
       "      <td>0.015400</td>\n",
       "      <td>0.473471</td>\n",
       "      <td>0.668127</td>\n",
       "      <td>0.642506</td>\n",
       "      <td>3.839653</td>\n",
       "    </tr>\n",
       "    <tr>\n",
       "      <th>2014-12-28</th>\n",
       "      <td>37.695824</td>\n",
       "      <td>0</td>\n",
       "      <td>37.695824</td>\n",
       "      <td>0.044794</td>\n",
       "      <td>4.640888</td>\n",
       "      <td>0.456018</td>\n",
       "      <td>0.035832</td>\n",
       "      <td>0.874563</td>\n",
       "      <td>0.115673</td>\n",
       "      <td>0.257369</td>\n",
       "      <td>11.602281</td>\n",
       "      <td>0.008270</td>\n",
       "      <td>0.018872</td>\n",
       "      <td>0.473571</td>\n",
       "      <td>0.657405</td>\n",
       "      <td>0.311556</td>\n",
       "      <td>3.510436</td>\n",
       "    </tr>\n",
       "    <tr>\n",
       "      <th>2014-12-29</th>\n",
       "      <td>28.675929</td>\n",
       "      <td>0</td>\n",
       "      <td>28.675929</td>\n",
       "      <td>0.037950</td>\n",
       "      <td>6.143640</td>\n",
       "      <td>0.463515</td>\n",
       "      <td>0.020115</td>\n",
       "      <td>0.552812</td>\n",
       "      <td>0.112204</td>\n",
       "      <td>0.274396</td>\n",
       "      <td>5.951963</td>\n",
       "      <td>0.005461</td>\n",
       "      <td>0.015199</td>\n",
       "      <td>0.493595</td>\n",
       "      <td>0.670818</td>\n",
       "      <td>0.279923</td>\n",
       "      <td>3.702587</td>\n",
       "    </tr>\n",
       "    <tr>\n",
       "      <th>2014-12-30</th>\n",
       "      <td>31.514313</td>\n",
       "      <td>0</td>\n",
       "      <td>31.514313</td>\n",
       "      <td>0.062139</td>\n",
       "      <td>7.283703</td>\n",
       "      <td>0.467821</td>\n",
       "      <td>0.033911</td>\n",
       "      <td>0.764434</td>\n",
       "      <td>0.115933</td>\n",
       "      <td>0.238277</td>\n",
       "      <td>11.100021</td>\n",
       "      <td>0.008893</td>\n",
       "      <td>0.020299</td>\n",
       "      <td>0.512197</td>\n",
       "      <td>0.680587</td>\n",
       "      <td>0.623743</td>\n",
       "      <td>4.555577</td>\n",
       "    </tr>\n",
       "    <tr>\n",
       "      <th>2014-12-31</th>\n",
       "      <td>28.674498</td>\n",
       "      <td>0</td>\n",
       "      <td>28.674498</td>\n",
       "      <td>0.060092</td>\n",
       "      <td>8.030594</td>\n",
       "      <td>0.494868</td>\n",
       "      <td>0.026109</td>\n",
       "      <td>0.559797</td>\n",
       "      <td>0.114914</td>\n",
       "      <td>0.273398</td>\n",
       "      <td>7.741381</td>\n",
       "      <td>0.005618</td>\n",
       "      <td>0.017158</td>\n",
       "      <td>0.514595</td>\n",
       "      <td>0.597449</td>\n",
       "      <td>0.513711</td>\n",
       "      <td>3.118014</td>\n",
       "    </tr>\n",
       "  </tbody>\n",
       "</table>\n",
       "<p>365 rows × 17 columns</p>\n",
       "</div>"
      ],
      "text/plain": [
       "              use [kW]  gen [kW]  Grid [kW]   AC [kW]  Furnace [kW]  \\\n",
       "Date & Time                                                           \n",
       "2014-01-01   65.013592         0  65.013592  0.042977      8.814319   \n",
       "2014-01-02   25.558434         0  25.558434  0.027648      6.628469   \n",
       "2014-01-03   61.066203         0  61.066203  0.045582     10.429788   \n",
       "2014-01-04   20.099577         0  20.099577  0.017047      4.021342   \n",
       "2014-01-05   16.245747         0  16.245747  0.008735      1.887036   \n",
       "...                ...       ...        ...       ...           ...   \n",
       "2014-12-27   35.046127         0  35.046127  0.029014      4.306682   \n",
       "2014-12-28   37.695824         0  37.695824  0.044794      4.640888   \n",
       "2014-12-29   28.675929         0  28.675929  0.037950      6.143640   \n",
       "2014-12-30   31.514313         0  31.514313  0.062139      7.283703   \n",
       "2014-12-31   28.674498         0  28.674498  0.060092      8.030594   \n",
       "\n",
       "             Cellar Lights [kW]  Washer [kW]  First Floor lights [kW]  \\\n",
       "Date & Time                                                             \n",
       "2014-01-01             1.137579     0.750298                 0.567603   \n",
       "2014-01-02             0.663398     0.005676                 0.489726   \n",
       "2014-01-03             0.539824     1.140676                 0.409804   \n",
       "2014-01-04             0.535128     0.004272                 0.278514   \n",
       "2014-01-05             0.495392     0.004844                 0.260665   \n",
       "...                         ...          ...                      ...   \n",
       "2014-12-27             0.475110     0.019649                 0.825872   \n",
       "2014-12-28             0.456018     0.035832                 0.874563   \n",
       "2014-12-29             0.463515     0.020115                 0.552812   \n",
       "2014-12-30             0.467821     0.033911                 0.764434   \n",
       "2014-12-31             0.494868     0.026109                 0.559797   \n",
       "\n",
       "             Utility Rm + Basement Bath [kW]  Garage outlets [kW]  \\\n",
       "Date & Time                                                         \n",
       "2014-01-01                          0.178529             0.261094   \n",
       "2014-01-02                          0.182251             0.354491   \n",
       "2014-01-03                          0.178256             0.359359   \n",
       "2014-01-04                          0.182690             0.284474   \n",
       "2014-01-05                          0.185596             0.308522   \n",
       "...                                      ...                  ...   \n",
       "2014-12-27                          0.112661             0.255620   \n",
       "2014-12-28                          0.115673             0.257369   \n",
       "2014-12-29                          0.112204             0.274396   \n",
       "2014-12-30                          0.115933             0.238277   \n",
       "2014-12-31                          0.114914             0.273398   \n",
       "\n",
       "             MBed + KBed outlets [kW]  Dryer + egauge [kW]  \\\n",
       "Date & Time                                                  \n",
       "2014-01-01                   0.254839            31.938131   \n",
       "2014-01-02                   1.059051             0.003269   \n",
       "2014-01-03                   0.309177            34.948484   \n",
       "2014-01-04                   0.217449             0.002434   \n",
       "2014-01-05                   0.303430             0.001639   \n",
       "...                               ...                  ...   \n",
       "2014-12-27                   5.422751             0.005953   \n",
       "2014-12-28                  11.602281             0.008270   \n",
       "2014-12-29                   5.951963             0.005461   \n",
       "2014-12-30                  11.100021             0.008893   \n",
       "2014-12-31                   7.741381             0.005618   \n",
       "\n",
       "             Panel GFI (central vac) [kW]  Home Office (R) [kW]  \\\n",
       "Date & Time                                                       \n",
       "2014-01-01                       0.350291              3.272944   \n",
       "2014-01-02                       0.346756              4.567906   \n",
       "2014-01-03                       0.351175              4.767804   \n",
       "2014-01-04                       0.343668              3.471117   \n",
       "2014-01-05                       0.337773              3.629159   \n",
       "...                                   ...                   ...   \n",
       "2014-12-27                       0.015400              0.473471   \n",
       "2014-12-28                       0.018872              0.473571   \n",
       "2014-12-29                       0.015199              0.493595   \n",
       "2014-12-30                       0.020299              0.512197   \n",
       "2014-12-31                       0.017158              0.514595   \n",
       "\n",
       "             Dining room (R) [kW]  Microwave (R) [kW]  Fridge (R) [kW]  \n",
       "Date & Time                                                             \n",
       "2014-01-01               0.200970            4.997037         4.639598  \n",
       "2014-01-02               0.224794            1.517176         3.820418  \n",
       "2014-01-03               0.195952            1.534685         3.588311  \n",
       "2014-01-04               0.211874            0.808600         4.109569  \n",
       "2014-01-05               0.235630            0.901771         3.608974  \n",
       "...                           ...                 ...              ...  \n",
       "2014-12-27               0.668127            0.642506         3.839653  \n",
       "2014-12-28               0.657405            0.311556         3.510436  \n",
       "2014-12-29               0.670818            0.279923         3.702587  \n",
       "2014-12-30               0.680587            0.623743         4.555577  \n",
       "2014-12-31               0.597449            0.513711         3.118014  \n",
       "\n",
       "[365 rows x 17 columns]"
      ]
     },
     "execution_count": 283,
     "metadata": {},
     "output_type": "execute_result"
    }
   ],
   "source": [
    "collapsedEnergyData"
   ]
  },
  {
   "cell_type": "markdown",
   "metadata": {},
   "source": [
    "###### Collapsing Weather Data to get Per Day values by taking the <b>mean</b> of all the values on each day"
   ]
  },
  {
   "cell_type": "code",
   "execution_count": 284,
   "metadata": {},
   "outputs": [],
   "source": [
    "weatherData['time'] = pd.to_datetime(weatherData['time'], errors = 'coerce')"
   ]
  },
  {
   "cell_type": "code",
   "execution_count": 285,
   "metadata": {},
   "outputs": [],
   "source": [
    "weatherData = weatherData.resample('d', on='time').mean().dropna(how='all')"
   ]
  },
  {
   "cell_type": "code",
   "execution_count": 286,
   "metadata": {},
   "outputs": [
    {
     "data": {
      "text/html": [
       "<div>\n",
       "<style scoped>\n",
       "    .dataframe tbody tr th:only-of-type {\n",
       "        vertical-align: middle;\n",
       "    }\n",
       "\n",
       "    .dataframe tbody tr th {\n",
       "        vertical-align: top;\n",
       "    }\n",
       "\n",
       "    .dataframe thead th {\n",
       "        text-align: right;\n",
       "    }\n",
       "</style>\n",
       "<table border=\"1\" class=\"dataframe\">\n",
       "  <thead>\n",
       "    <tr style=\"text-align: right;\">\n",
       "      <th></th>\n",
       "      <th>temperature</th>\n",
       "      <th>humidity</th>\n",
       "      <th>visibility</th>\n",
       "      <th>pressure</th>\n",
       "      <th>windSpeed</th>\n",
       "      <th>cloudCover</th>\n",
       "      <th>windBearing</th>\n",
       "      <th>precipIntensity</th>\n",
       "      <th>dewPoint</th>\n",
       "      <th>precipProbability</th>\n",
       "    </tr>\n",
       "    <tr>\n",
       "      <th>time</th>\n",
       "      <th></th>\n",
       "      <th></th>\n",
       "      <th></th>\n",
       "      <th></th>\n",
       "      <th></th>\n",
       "      <th></th>\n",
       "      <th></th>\n",
       "      <th></th>\n",
       "      <th></th>\n",
       "      <th></th>\n",
       "    </tr>\n",
       "  </thead>\n",
       "  <tbody>\n",
       "    <tr>\n",
       "      <th>2014-01-01</th>\n",
       "      <td>20.110833</td>\n",
       "      <td>0.556667</td>\n",
       "      <td>9.970000</td>\n",
       "      <td>1025.395000</td>\n",
       "      <td>6.820417</td>\n",
       "      <td>0.031304</td>\n",
       "      <td>252.291667</td>\n",
       "      <td>0.000000</td>\n",
       "      <td>6.362083</td>\n",
       "      <td>0.000000</td>\n",
       "    </tr>\n",
       "    <tr>\n",
       "      <th>2014-01-02</th>\n",
       "      <td>16.382500</td>\n",
       "      <td>0.784583</td>\n",
       "      <td>3.834583</td>\n",
       "      <td>1023.465833</td>\n",
       "      <td>7.433750</td>\n",
       "      <td>0.354444</td>\n",
       "      <td>53.458333</td>\n",
       "      <td>0.002004</td>\n",
       "      <td>10.737083</td>\n",
       "      <td>0.074583</td>\n",
       "    </tr>\n",
       "    <tr>\n",
       "      <th>2014-01-03</th>\n",
       "      <td>6.256667</td>\n",
       "      <td>0.680833</td>\n",
       "      <td>4.509167</td>\n",
       "      <td>1014.428750</td>\n",
       "      <td>12.828333</td>\n",
       "      <td>0.186364</td>\n",
       "      <td>207.333333</td>\n",
       "      <td>0.002029</td>\n",
       "      <td>-2.337500</td>\n",
       "      <td>0.080000</td>\n",
       "    </tr>\n",
       "    <tr>\n",
       "      <th>2014-01-04</th>\n",
       "      <td>2.711667</td>\n",
       "      <td>0.617083</td>\n",
       "      <td>9.822917</td>\n",
       "      <td>1030.096250</td>\n",
       "      <td>5.248333</td>\n",
       "      <td>0.001667</td>\n",
       "      <td>240.166667</td>\n",
       "      <td>0.000000</td>\n",
       "      <td>-8.352083</td>\n",
       "      <td>0.000000</td>\n",
       "    </tr>\n",
       "    <tr>\n",
       "      <th>2014-01-05</th>\n",
       "      <td>17.654167</td>\n",
       "      <td>0.682083</td>\n",
       "      <td>9.134583</td>\n",
       "      <td>1025.275000</td>\n",
       "      <td>3.417083</td>\n",
       "      <td>0.010952</td>\n",
       "      <td>208.958333</td>\n",
       "      <td>0.000033</td>\n",
       "      <td>8.615000</td>\n",
       "      <td>0.000417</td>\n",
       "    </tr>\n",
       "  </tbody>\n",
       "</table>\n",
       "</div>"
      ],
      "text/plain": [
       "            temperature  humidity  visibility     pressure  windSpeed  \\\n",
       "time                                                                    \n",
       "2014-01-01    20.110833  0.556667    9.970000  1025.395000   6.820417   \n",
       "2014-01-02    16.382500  0.784583    3.834583  1023.465833   7.433750   \n",
       "2014-01-03     6.256667  0.680833    4.509167  1014.428750  12.828333   \n",
       "2014-01-04     2.711667  0.617083    9.822917  1030.096250   5.248333   \n",
       "2014-01-05    17.654167  0.682083    9.134583  1025.275000   3.417083   \n",
       "\n",
       "            cloudCover  windBearing  precipIntensity   dewPoint  \\\n",
       "time                                                              \n",
       "2014-01-01    0.031304   252.291667         0.000000   6.362083   \n",
       "2014-01-02    0.354444    53.458333         0.002004  10.737083   \n",
       "2014-01-03    0.186364   207.333333         0.002029  -2.337500   \n",
       "2014-01-04    0.001667   240.166667         0.000000  -8.352083   \n",
       "2014-01-05    0.010952   208.958333         0.000033   8.615000   \n",
       "\n",
       "            precipProbability  \n",
       "time                           \n",
       "2014-01-01           0.000000  \n",
       "2014-01-02           0.074583  \n",
       "2014-01-03           0.080000  \n",
       "2014-01-04           0.000000  \n",
       "2014-01-05           0.000417  "
      ]
     },
     "execution_count": 286,
     "metadata": {},
     "output_type": "execute_result"
    }
   ],
   "source": [
    "weatherData.head()"
   ]
  },
  {
   "cell_type": "markdown",
   "metadata": {},
   "source": [
    "##### Merging the Datasets"
   ]
  },
  {
   "cell_type": "code",
   "execution_count": 287,
   "metadata": {},
   "outputs": [],
   "source": [
    "mergedData = weatherData"
   ]
  },
  {
   "cell_type": "code",
   "execution_count": 288,
   "metadata": {},
   "outputs": [],
   "source": [
    "mergedData['use [kW]'] = collapsedEnergyData['use [kW]']"
   ]
  },
  {
   "cell_type": "code",
   "execution_count": 289,
   "metadata": {},
   "outputs": [
    {
     "data": {
      "text/html": [
       "<div>\n",
       "<style scoped>\n",
       "    .dataframe tbody tr th:only-of-type {\n",
       "        vertical-align: middle;\n",
       "    }\n",
       "\n",
       "    .dataframe tbody tr th {\n",
       "        vertical-align: top;\n",
       "    }\n",
       "\n",
       "    .dataframe thead th {\n",
       "        text-align: right;\n",
       "    }\n",
       "</style>\n",
       "<table border=\"1\" class=\"dataframe\">\n",
       "  <thead>\n",
       "    <tr style=\"text-align: right;\">\n",
       "      <th></th>\n",
       "      <th>temperature</th>\n",
       "      <th>humidity</th>\n",
       "      <th>visibility</th>\n",
       "      <th>pressure</th>\n",
       "      <th>windSpeed</th>\n",
       "      <th>cloudCover</th>\n",
       "      <th>windBearing</th>\n",
       "      <th>precipIntensity</th>\n",
       "      <th>dewPoint</th>\n",
       "      <th>precipProbability</th>\n",
       "      <th>use [kW]</th>\n",
       "    </tr>\n",
       "    <tr>\n",
       "      <th>time</th>\n",
       "      <th></th>\n",
       "      <th></th>\n",
       "      <th></th>\n",
       "      <th></th>\n",
       "      <th></th>\n",
       "      <th></th>\n",
       "      <th></th>\n",
       "      <th></th>\n",
       "      <th></th>\n",
       "      <th></th>\n",
       "      <th></th>\n",
       "    </tr>\n",
       "  </thead>\n",
       "  <tbody>\n",
       "    <tr>\n",
       "      <th>2014-01-01</th>\n",
       "      <td>20.110833</td>\n",
       "      <td>0.556667</td>\n",
       "      <td>9.970000</td>\n",
       "      <td>1025.395000</td>\n",
       "      <td>6.820417</td>\n",
       "      <td>0.031304</td>\n",
       "      <td>252.291667</td>\n",
       "      <td>0.000000</td>\n",
       "      <td>6.362083</td>\n",
       "      <td>0.000000</td>\n",
       "      <td>65.013592</td>\n",
       "    </tr>\n",
       "    <tr>\n",
       "      <th>2014-01-02</th>\n",
       "      <td>16.382500</td>\n",
       "      <td>0.784583</td>\n",
       "      <td>3.834583</td>\n",
       "      <td>1023.465833</td>\n",
       "      <td>7.433750</td>\n",
       "      <td>0.354444</td>\n",
       "      <td>53.458333</td>\n",
       "      <td>0.002004</td>\n",
       "      <td>10.737083</td>\n",
       "      <td>0.074583</td>\n",
       "      <td>25.558434</td>\n",
       "    </tr>\n",
       "    <tr>\n",
       "      <th>2014-01-03</th>\n",
       "      <td>6.256667</td>\n",
       "      <td>0.680833</td>\n",
       "      <td>4.509167</td>\n",
       "      <td>1014.428750</td>\n",
       "      <td>12.828333</td>\n",
       "      <td>0.186364</td>\n",
       "      <td>207.333333</td>\n",
       "      <td>0.002029</td>\n",
       "      <td>-2.337500</td>\n",
       "      <td>0.080000</td>\n",
       "      <td>61.066203</td>\n",
       "    </tr>\n",
       "    <tr>\n",
       "      <th>2014-01-04</th>\n",
       "      <td>2.711667</td>\n",
       "      <td>0.617083</td>\n",
       "      <td>9.822917</td>\n",
       "      <td>1030.096250</td>\n",
       "      <td>5.248333</td>\n",
       "      <td>0.001667</td>\n",
       "      <td>240.166667</td>\n",
       "      <td>0.000000</td>\n",
       "      <td>-8.352083</td>\n",
       "      <td>0.000000</td>\n",
       "      <td>20.099577</td>\n",
       "    </tr>\n",
       "    <tr>\n",
       "      <th>2014-01-05</th>\n",
       "      <td>17.654167</td>\n",
       "      <td>0.682083</td>\n",
       "      <td>9.134583</td>\n",
       "      <td>1025.275000</td>\n",
       "      <td>3.417083</td>\n",
       "      <td>0.010952</td>\n",
       "      <td>208.958333</td>\n",
       "      <td>0.000033</td>\n",
       "      <td>8.615000</td>\n",
       "      <td>0.000417</td>\n",
       "      <td>16.245747</td>\n",
       "    </tr>\n",
       "  </tbody>\n",
       "</table>\n",
       "</div>"
      ],
      "text/plain": [
       "            temperature  humidity  visibility     pressure  windSpeed  \\\n",
       "time                                                                    \n",
       "2014-01-01    20.110833  0.556667    9.970000  1025.395000   6.820417   \n",
       "2014-01-02    16.382500  0.784583    3.834583  1023.465833   7.433750   \n",
       "2014-01-03     6.256667  0.680833    4.509167  1014.428750  12.828333   \n",
       "2014-01-04     2.711667  0.617083    9.822917  1030.096250   5.248333   \n",
       "2014-01-05    17.654167  0.682083    9.134583  1025.275000   3.417083   \n",
       "\n",
       "            cloudCover  windBearing  precipIntensity   dewPoint  \\\n",
       "time                                                              \n",
       "2014-01-01    0.031304   252.291667         0.000000   6.362083   \n",
       "2014-01-02    0.354444    53.458333         0.002004  10.737083   \n",
       "2014-01-03    0.186364   207.333333         0.002029  -2.337500   \n",
       "2014-01-04    0.001667   240.166667         0.000000  -8.352083   \n",
       "2014-01-05    0.010952   208.958333         0.000033   8.615000   \n",
       "\n",
       "            precipProbability   use [kW]  \n",
       "time                                      \n",
       "2014-01-01           0.000000  65.013592  \n",
       "2014-01-02           0.074583  25.558434  \n",
       "2014-01-03           0.080000  61.066203  \n",
       "2014-01-04           0.000000  20.099577  \n",
       "2014-01-05           0.000417  16.245747  "
      ]
     },
     "execution_count": 289,
     "metadata": {},
     "output_type": "execute_result"
    }
   ],
   "source": [
    "mergedData.head()"
   ]
  },
  {
   "cell_type": "markdown",
   "metadata": {},
   "source": [
    "### TASK 2"
   ]
  },
  {
   "cell_type": "markdown",
   "metadata": {},
   "source": [
    "Checking Variable Correlations"
   ]
  },
  {
   "cell_type": "code",
   "execution_count": 290,
   "metadata": {},
   "outputs": [
    {
     "data": {
      "text/html": [
       "<div>\n",
       "<style scoped>\n",
       "    .dataframe tbody tr th:only-of-type {\n",
       "        vertical-align: middle;\n",
       "    }\n",
       "\n",
       "    .dataframe tbody tr th {\n",
       "        vertical-align: top;\n",
       "    }\n",
       "\n",
       "    .dataframe thead th {\n",
       "        text-align: right;\n",
       "    }\n",
       "</style>\n",
       "<table border=\"1\" class=\"dataframe\">\n",
       "  <thead>\n",
       "    <tr style=\"text-align: right;\">\n",
       "      <th></th>\n",
       "      <th>temperature</th>\n",
       "      <th>humidity</th>\n",
       "      <th>visibility</th>\n",
       "      <th>pressure</th>\n",
       "      <th>windSpeed</th>\n",
       "      <th>cloudCover</th>\n",
       "      <th>windBearing</th>\n",
       "      <th>precipIntensity</th>\n",
       "      <th>dewPoint</th>\n",
       "      <th>precipProbability</th>\n",
       "      <th>use [kW]</th>\n",
       "    </tr>\n",
       "  </thead>\n",
       "  <tbody>\n",
       "    <tr>\n",
       "      <th>temperature</th>\n",
       "      <td>1.000000</td>\n",
       "      <td>0.322137</td>\n",
       "      <td>0.104422</td>\n",
       "      <td>-0.205136</td>\n",
       "      <td>-0.226581</td>\n",
       "      <td>0.053968</td>\n",
       "      <td>-0.108984</td>\n",
       "      <td>0.116522</td>\n",
       "      <td>0.966929</td>\n",
       "      <td>0.106991</td>\n",
       "      <td>0.190302</td>\n",
       "    </tr>\n",
       "    <tr>\n",
       "      <th>humidity</th>\n",
       "      <td>0.322137</td>\n",
       "      <td>1.000000</td>\n",
       "      <td>-0.662128</td>\n",
       "      <td>-0.206905</td>\n",
       "      <td>-0.307849</td>\n",
       "      <td>0.608071</td>\n",
       "      <td>-0.421354</td>\n",
       "      <td>0.470280</td>\n",
       "      <td>0.549459</td>\n",
       "      <td>0.581198</td>\n",
       "      <td>0.008512</td>\n",
       "    </tr>\n",
       "    <tr>\n",
       "      <th>visibility</th>\n",
       "      <td>0.104422</td>\n",
       "      <td>-0.662128</td>\n",
       "      <td>1.000000</td>\n",
       "      <td>0.214076</td>\n",
       "      <td>0.070652</td>\n",
       "      <td>-0.591159</td>\n",
       "      <td>0.298258</td>\n",
       "      <td>-0.530633</td>\n",
       "      <td>-0.070033</td>\n",
       "      <td>-0.654113</td>\n",
       "      <td>0.084559</td>\n",
       "    </tr>\n",
       "    <tr>\n",
       "      <th>pressure</th>\n",
       "      <td>-0.205136</td>\n",
       "      <td>-0.206905</td>\n",
       "      <td>0.214076</td>\n",
       "      <td>1.000000</td>\n",
       "      <td>-0.361599</td>\n",
       "      <td>-0.241922</td>\n",
       "      <td>-0.291300</td>\n",
       "      <td>-0.252463</td>\n",
       "      <td>-0.237483</td>\n",
       "      <td>-0.298298</td>\n",
       "      <td>-0.057175</td>\n",
       "    </tr>\n",
       "    <tr>\n",
       "      <th>windSpeed</th>\n",
       "      <td>-0.226581</td>\n",
       "      <td>-0.307849</td>\n",
       "      <td>0.070652</td>\n",
       "      <td>-0.361599</td>\n",
       "      <td>1.000000</td>\n",
       "      <td>0.111268</td>\n",
       "      <td>0.277942</td>\n",
       "      <td>0.127482</td>\n",
       "      <td>-0.275908</td>\n",
       "      <td>0.105010</td>\n",
       "      <td>-0.044820</td>\n",
       "    </tr>\n",
       "    <tr>\n",
       "      <th>cloudCover</th>\n",
       "      <td>0.053968</td>\n",
       "      <td>0.608071</td>\n",
       "      <td>-0.591159</td>\n",
       "      <td>-0.241922</td>\n",
       "      <td>0.111268</td>\n",
       "      <td>1.000000</td>\n",
       "      <td>-0.358218</td>\n",
       "      <td>0.542465</td>\n",
       "      <td>0.203634</td>\n",
       "      <td>0.661039</td>\n",
       "      <td>-0.063722</td>\n",
       "    </tr>\n",
       "    <tr>\n",
       "      <th>windBearing</th>\n",
       "      <td>-0.108984</td>\n",
       "      <td>-0.421354</td>\n",
       "      <td>0.298258</td>\n",
       "      <td>-0.291300</td>\n",
       "      <td>0.277942</td>\n",
       "      <td>-0.358218</td>\n",
       "      <td>1.000000</td>\n",
       "      <td>-0.280751</td>\n",
       "      <td>-0.205763</td>\n",
       "      <td>-0.312450</td>\n",
       "      <td>0.060091</td>\n",
       "    </tr>\n",
       "    <tr>\n",
       "      <th>precipIntensity</th>\n",
       "      <td>0.116522</td>\n",
       "      <td>0.470280</td>\n",
       "      <td>-0.530633</td>\n",
       "      <td>-0.252463</td>\n",
       "      <td>0.127482</td>\n",
       "      <td>0.542465</td>\n",
       "      <td>-0.280751</td>\n",
       "      <td>1.000000</td>\n",
       "      <td>0.223141</td>\n",
       "      <td>0.895111</td>\n",
       "      <td>0.038111</td>\n",
       "    </tr>\n",
       "    <tr>\n",
       "      <th>dewPoint</th>\n",
       "      <td>0.966929</td>\n",
       "      <td>0.549459</td>\n",
       "      <td>-0.070033</td>\n",
       "      <td>-0.237483</td>\n",
       "      <td>-0.275908</td>\n",
       "      <td>0.203634</td>\n",
       "      <td>-0.205763</td>\n",
       "      <td>0.223141</td>\n",
       "      <td>1.000000</td>\n",
       "      <td>0.242411</td>\n",
       "      <td>0.176760</td>\n",
       "    </tr>\n",
       "    <tr>\n",
       "      <th>precipProbability</th>\n",
       "      <td>0.106991</td>\n",
       "      <td>0.581198</td>\n",
       "      <td>-0.654113</td>\n",
       "      <td>-0.298298</td>\n",
       "      <td>0.105010</td>\n",
       "      <td>0.661039</td>\n",
       "      <td>-0.312450</td>\n",
       "      <td>0.895111</td>\n",
       "      <td>0.242411</td>\n",
       "      <td>1.000000</td>\n",
       "      <td>0.011182</td>\n",
       "    </tr>\n",
       "    <tr>\n",
       "      <th>use [kW]</th>\n",
       "      <td>0.190302</td>\n",
       "      <td>0.008512</td>\n",
       "      <td>0.084559</td>\n",
       "      <td>-0.057175</td>\n",
       "      <td>-0.044820</td>\n",
       "      <td>-0.063722</td>\n",
       "      <td>0.060091</td>\n",
       "      <td>0.038111</td>\n",
       "      <td>0.176760</td>\n",
       "      <td>0.011182</td>\n",
       "      <td>1.000000</td>\n",
       "    </tr>\n",
       "  </tbody>\n",
       "</table>\n",
       "</div>"
      ],
      "text/plain": [
       "                   temperature  humidity  visibility  pressure  windSpeed  \\\n",
       "temperature           1.000000  0.322137    0.104422 -0.205136  -0.226581   \n",
       "humidity              0.322137  1.000000   -0.662128 -0.206905  -0.307849   \n",
       "visibility            0.104422 -0.662128    1.000000  0.214076   0.070652   \n",
       "pressure             -0.205136 -0.206905    0.214076  1.000000  -0.361599   \n",
       "windSpeed            -0.226581 -0.307849    0.070652 -0.361599   1.000000   \n",
       "cloudCover            0.053968  0.608071   -0.591159 -0.241922   0.111268   \n",
       "windBearing          -0.108984 -0.421354    0.298258 -0.291300   0.277942   \n",
       "precipIntensity       0.116522  0.470280   -0.530633 -0.252463   0.127482   \n",
       "dewPoint              0.966929  0.549459   -0.070033 -0.237483  -0.275908   \n",
       "precipProbability     0.106991  0.581198   -0.654113 -0.298298   0.105010   \n",
       "use [kW]              0.190302  0.008512    0.084559 -0.057175  -0.044820   \n",
       "\n",
       "                   cloudCover  windBearing  precipIntensity  dewPoint  \\\n",
       "temperature          0.053968    -0.108984         0.116522  0.966929   \n",
       "humidity             0.608071    -0.421354         0.470280  0.549459   \n",
       "visibility          -0.591159     0.298258        -0.530633 -0.070033   \n",
       "pressure            -0.241922    -0.291300        -0.252463 -0.237483   \n",
       "windSpeed            0.111268     0.277942         0.127482 -0.275908   \n",
       "cloudCover           1.000000    -0.358218         0.542465  0.203634   \n",
       "windBearing         -0.358218     1.000000        -0.280751 -0.205763   \n",
       "precipIntensity      0.542465    -0.280751         1.000000  0.223141   \n",
       "dewPoint             0.203634    -0.205763         0.223141  1.000000   \n",
       "precipProbability    0.661039    -0.312450         0.895111  0.242411   \n",
       "use [kW]            -0.063722     0.060091         0.038111  0.176760   \n",
       "\n",
       "                   precipProbability  use [kW]  \n",
       "temperature                 0.106991  0.190302  \n",
       "humidity                    0.581198  0.008512  \n",
       "visibility                 -0.654113  0.084559  \n",
       "pressure                   -0.298298 -0.057175  \n",
       "windSpeed                   0.105010 -0.044820  \n",
       "cloudCover                  0.661039 -0.063722  \n",
       "windBearing                -0.312450  0.060091  \n",
       "precipIntensity             0.895111  0.038111  \n",
       "dewPoint                    0.242411  0.176760  \n",
       "precipProbability           1.000000  0.011182  \n",
       "use [kW]                    0.011182  1.000000  "
      ]
     },
     "execution_count": 290,
     "metadata": {},
     "output_type": "execute_result"
    }
   ],
   "source": [
    "mergedData.corr()"
   ]
  },
  {
   "cell_type": "markdown",
   "metadata": {},
   "source": [
    "###### Splitting Data Sets in Training and Testing"
   ]
  },
  {
   "cell_type": "markdown",
   "metadata": {},
   "source": [
    "Since we have to predict December values, we'll take the December records as the testing data and all the other months as training data. "
   ]
  },
  {
   "cell_type": "code",
   "execution_count": 291,
   "metadata": {},
   "outputs": [],
   "source": [
    "trainingData = mergedData['2014-01-01':'2014-11-30'] # Gets all months except December\n",
    "testingData = mergedData['2014-12-01':'2014-12-31'] # Gets December Values"
   ]
  },
  {
   "cell_type": "markdown",
   "metadata": {},
   "source": [
    "Saving the original values of the energy usage in the month of December"
   ]
  },
  {
   "cell_type": "code",
   "execution_count": 292,
   "metadata": {},
   "outputs": [],
   "source": [
    "testingDataOriginalEnergy = testingData['use [kW]']"
   ]
  },
  {
   "cell_type": "markdown",
   "metadata": {},
   "source": [
    "Dropping the energy usage values in the month of December"
   ]
  },
  {
   "cell_type": "code",
   "execution_count": 293,
   "metadata": {},
   "outputs": [],
   "source": [
    "testingData = testingData.drop('use [kW]', axis=1)"
   ]
  },
  {
   "cell_type": "markdown",
   "metadata": {},
   "source": [
    "### TASK 3"
   ]
  },
  {
   "cell_type": "markdown",
   "metadata": {},
   "source": [
    "###### Linear Regression"
   ]
  },
  {
   "cell_type": "markdown",
   "metadata": {},
   "source": [
    "Putting all the Features in 'x_train' and Target in 'y_train'"
   ]
  },
  {
   "cell_type": "code",
   "execution_count": 294,
   "metadata": {},
   "outputs": [],
   "source": [
    "y_train = trainingData.pop('use [kW]')\n",
    "x_train = trainingData"
   ]
  },
  {
   "cell_type": "markdown",
   "metadata": {},
   "source": [
    "Adding a constant"
   ]
  },
  {
   "cell_type": "code",
   "execution_count": 295,
   "metadata": {},
   "outputs": [],
   "source": [
    "x_train_lm = sm.add_constant(x_train)"
   ]
  },
  {
   "cell_type": "markdown",
   "metadata": {},
   "source": [
    "<b> Lets find relevant features for our model. </b>"
   ]
  },
  {
   "cell_type": "markdown",
   "metadata": {},
   "source": [
    "Creating the Linear Regression Model"
   ]
  },
  {
   "cell_type": "code",
   "execution_count": 296,
   "metadata": {},
   "outputs": [
    {
     "name": "stdout",
     "output_type": "stream",
     "text": [
      "                            OLS Regression Results                            \n",
      "==============================================================================\n",
      "Dep. Variable:               use [kW]   R-squared:                       0.080\n",
      "Model:                            OLS   Adj. R-squared:                  0.052\n",
      "Method:                 Least Squares   F-statistic:                     2.827\n",
      "Date:                Wed, 19 May 2021   Prob (F-statistic):            0.00223\n",
      "Time:                        00:01:37   Log-Likelihood:                -1358.1\n",
      "No. Observations:                 334   AIC:                             2738.\n",
      "Df Residuals:                     323   BIC:                             2780.\n",
      "Df Model:                          10                                         \n",
      "Covariance Type:            nonrobust                                         \n",
      "=====================================================================================\n",
      "                        coef    std err          t      P>|t|      [0.025      0.975]\n",
      "-------------------------------------------------------------------------------------\n",
      "const               224.0132    154.860      1.447      0.149     -80.648     528.674\n",
      "temperature          -2.8566      1.007     -2.836      0.005      -4.838      -0.875\n",
      "humidity           -149.2388     52.004     -2.870      0.004    -251.548     -46.929\n",
      "visibility           -0.6510      1.182     -0.551      0.582      -2.976       1.674\n",
      "pressure             -0.0653      0.145     -0.449      0.653      -0.351       0.221\n",
      "windSpeed            -0.7105      0.375     -1.893      0.059      -1.449       0.028\n",
      "cloudCover           -0.8061      6.186     -0.130      0.896     -12.975      11.363\n",
      "windBearing           0.0206      0.013      1.593      0.112      -0.005       0.046\n",
      "precipIntensity     183.3284    220.334      0.832      0.406    -250.142     616.799\n",
      "dewPoint              3.2049      1.083      2.958      0.003       1.074       5.336\n",
      "precipProbability     2.3742     19.773      0.120      0.905     -36.526      41.275\n",
      "==============================================================================\n",
      "Omnibus:                       95.035   Durbin-Watson:                   1.177\n",
      "Prob(Omnibus):                  0.000   Jarque-Bera (JB):              208.340\n",
      "Skew:                           1.438   Prob(JB):                     5.75e-46\n",
      "Kurtosis:                       5.587   Cond. No.                     2.92e+05\n",
      "==============================================================================\n",
      "\n",
      "Notes:\n",
      "[1] Standard Errors assume that the covariance matrix of the errors is correctly specified.\n",
      "[2] The condition number is large, 2.92e+05. This might indicate that there are\n",
      "strong multicollinearity or other numerical problems.\n"
     ]
    }
   ],
   "source": [
    "linearModel_1 = sm.OLS(y_train, x_train_lm).fit()\n",
    "\n",
    "print(linearModel_1.summary())"
   ]
  },
  {
   "cell_type": "markdown",
   "metadata": {},
   "source": [
    "<b> P-Value of 'precipProbability' is pretty high, so we'll drop this feature from our model. </b>"
   ]
  },
  {
   "cell_type": "code",
   "execution_count": 297,
   "metadata": {},
   "outputs": [],
   "source": [
    "updatedTrainingData = x_train.drop('precipProbability', 1,)"
   ]
  },
  {
   "cell_type": "markdown",
   "metadata": {},
   "source": [
    "Adding a constant"
   ]
  },
  {
   "cell_type": "code",
   "execution_count": 298,
   "metadata": {},
   "outputs": [],
   "source": [
    "x_train_lm = sm.add_constant(updatedTrainingData)"
   ]
  },
  {
   "cell_type": "markdown",
   "metadata": {},
   "source": [
    "Creating an updated Linear Regression Model after dropping feature"
   ]
  },
  {
   "cell_type": "code",
   "execution_count": 299,
   "metadata": {},
   "outputs": [
    {
     "name": "stdout",
     "output_type": "stream",
     "text": [
      "                            OLS Regression Results                            \n",
      "==============================================================================\n",
      "Dep. Variable:               use [kW]   R-squared:                       0.080\n",
      "Model:                            OLS   Adj. R-squared:                  0.055\n",
      "Method:                 Least Squares   F-statistic:                     3.149\n",
      "Date:                Wed, 19 May 2021   Prob (F-statistic):            0.00117\n",
      "Time:                        00:01:37   Log-Likelihood:                -1358.1\n",
      "No. Observations:                 334   AIC:                             2736.\n",
      "Df Residuals:                     324   BIC:                             2774.\n",
      "Df Model:                           9                                         \n",
      "Covariance Type:            nonrobust                                         \n",
      "===================================================================================\n",
      "                      coef    std err          t      P>|t|      [0.025      0.975]\n",
      "-----------------------------------------------------------------------------------\n",
      "const             225.4273    154.176      1.462      0.145     -77.886     528.740\n",
      "temperature        -2.8510      1.005     -2.838      0.005      -4.827      -0.875\n",
      "humidity         -148.8180     51.807     -2.873      0.004    -250.739     -46.897\n",
      "visibility         -0.6763      1.161     -0.582      0.561      -2.961       1.608\n",
      "pressure           -0.0667      0.145     -0.462      0.645      -0.351       0.218\n",
      "windSpeed          -0.7080      0.374     -1.892      0.059      -1.444       0.028\n",
      "cloudCover         -0.5938      5.919     -0.100      0.920     -12.237      11.050\n",
      "windBearing         0.0205      0.013      1.592      0.112      -0.005       0.046\n",
      "precipIntensity   205.2103    123.648      1.660      0.098     -38.043     448.464\n",
      "dewPoint            3.1988      1.081      2.960      0.003       1.073       5.325\n",
      "==============================================================================\n",
      "Omnibus:                       94.933   Durbin-Watson:                   1.176\n",
      "Prob(Omnibus):                  0.000   Jarque-Bera (JB):              207.716\n",
      "Skew:                           1.438   Prob(JB):                     7.85e-46\n",
      "Kurtosis:                       5.580   Cond. No.                     2.06e+05\n",
      "==============================================================================\n",
      "\n",
      "Notes:\n",
      "[1] Standard Errors assume that the covariance matrix of the errors is correctly specified.\n",
      "[2] The condition number is large, 2.06e+05. This might indicate that there are\n",
      "strong multicollinearity or other numerical problems.\n"
     ]
    }
   ],
   "source": [
    "linearModel_2 = sm.OLS(y_train, x_train_lm).fit()\n",
    "\n",
    "print(linearModel_2.summary())"
   ]
  },
  {
   "cell_type": "markdown",
   "metadata": {},
   "source": [
    "<b> P-value of 'cloudCover' is pretty high so we'll drop this feature from our model. </b>"
   ]
  },
  {
   "cell_type": "code",
   "execution_count": 300,
   "metadata": {},
   "outputs": [],
   "source": [
    "updatedTrainingData = updatedTrainingData.drop('cloudCover', 1,)"
   ]
  },
  {
   "cell_type": "markdown",
   "metadata": {},
   "source": [
    "Adding a constant"
   ]
  },
  {
   "cell_type": "code",
   "execution_count": 301,
   "metadata": {},
   "outputs": [],
   "source": [
    "x_train_lm = sm.add_constant(updatedTrainingData)"
   ]
  },
  {
   "cell_type": "markdown",
   "metadata": {},
   "source": [
    "Creating an updated Linear Regression Model after dropping features"
   ]
  },
  {
   "cell_type": "code",
   "execution_count": 302,
   "metadata": {},
   "outputs": [
    {
     "name": "stdout",
     "output_type": "stream",
     "text": [
      "                            OLS Regression Results                            \n",
      "==============================================================================\n",
      "Dep. Variable:               use [kW]   R-squared:                       0.080\n",
      "Model:                            OLS   Adj. R-squared:                  0.058\n",
      "Method:                 Least Squares   F-statistic:                     3.552\n",
      "Date:                Wed, 19 May 2021   Prob (F-statistic):           0.000581\n",
      "Time:                        00:01:37   Log-Likelihood:                -1358.1\n",
      "No. Observations:                 334   AIC:                             2734.\n",
      "Df Residuals:                     325   BIC:                             2768.\n",
      "Df Model:                           8                                         \n",
      "Covariance Type:            nonrobust                                         \n",
      "===================================================================================\n",
      "                      coef    std err          t      P>|t|      [0.025      0.975]\n",
      "-----------------------------------------------------------------------------------\n",
      "const             224.5798    153.710      1.461      0.145     -77.812     526.972\n",
      "temperature        -2.8615      0.998     -2.868      0.004      -4.824      -0.899\n",
      "humidity         -149.7631     50.866     -2.944      0.003    -249.831     -49.695\n",
      "visibility         -0.6784      1.159     -0.585      0.559      -2.959       1.602\n",
      "pressure           -0.0653      0.144     -0.455      0.650      -0.348       0.217\n",
      "windSpeed          -0.7187      0.358     -2.008      0.046      -1.423      -0.014\n",
      "windBearing         0.0208      0.013      1.652      0.100      -0.004       0.046\n",
      "precipIntensity   202.0484    119.382      1.692      0.092     -32.811     436.908\n",
      "dewPoint            3.2105      1.073      2.993      0.003       1.100       5.321\n",
      "==============================================================================\n",
      "Omnibus:                       95.141   Durbin-Watson:                   1.176\n",
      "Prob(Omnibus):                  0.000   Jarque-Bera (JB):              208.591\n",
      "Skew:                           1.440   Prob(JB):                     5.07e-46\n",
      "Kurtosis:                       5.587   Cond. No.                     2.06e+05\n",
      "==============================================================================\n",
      "\n",
      "Notes:\n",
      "[1] Standard Errors assume that the covariance matrix of the errors is correctly specified.\n",
      "[2] The condition number is large, 2.06e+05. This might indicate that there are\n",
      "strong multicollinearity or other numerical problems.\n"
     ]
    }
   ],
   "source": [
    "linearModel_3 = sm.OLS(y_train, x_train_lm).fit()\n",
    "\n",
    "print(linearModel_3.summary())"
   ]
  },
  {
   "cell_type": "markdown",
   "metadata": {},
   "source": [
    "<b> P-Value of 'pressure' is pretty high, so we'll drop this feature from our model. </b>"
   ]
  },
  {
   "cell_type": "code",
   "execution_count": 303,
   "metadata": {},
   "outputs": [],
   "source": [
    "updatedTrainingData = updatedTrainingData.drop('pressure', 1,)"
   ]
  },
  {
   "cell_type": "markdown",
   "metadata": {},
   "source": [
    "Adding a constant"
   ]
  },
  {
   "cell_type": "code",
   "execution_count": 304,
   "metadata": {},
   "outputs": [],
   "source": [
    "x_train_lm = sm.add_constant(updatedTrainingData)"
   ]
  },
  {
   "cell_type": "markdown",
   "metadata": {},
   "source": [
    "Creating an updated Linear Regression Model after dropping features"
   ]
  },
  {
   "cell_type": "code",
   "execution_count": 305,
   "metadata": {},
   "outputs": [
    {
     "name": "stdout",
     "output_type": "stream",
     "text": [
      "                            OLS Regression Results                            \n",
      "==============================================================================\n",
      "Dep. Variable:               use [kW]   R-squared:                       0.080\n",
      "Model:                            OLS   Adj. R-squared:                  0.060\n",
      "Method:                 Least Squares   F-statistic:                     4.040\n",
      "Date:                Wed, 19 May 2021   Prob (F-statistic):           0.000291\n",
      "Time:                        00:01:37   Log-Likelihood:                -1358.2\n",
      "No. Observations:                 334   AIC:                             2732.\n",
      "Df Residuals:                     326   BIC:                             2763.\n",
      "Df Model:                           7                                         \n",
      "Covariance Type:            nonrobust                                         \n",
      "===================================================================================\n",
      "                      coef    std err          t      P>|t|      [0.025      0.975]\n",
      "-----------------------------------------------------------------------------------\n",
      "const             158.4350     49.448      3.204      0.001      61.157     255.713\n",
      "temperature        -2.8863      0.995     -2.901      0.004      -4.843      -0.929\n",
      "humidity         -150.3332     50.788     -2.960      0.003    -250.248     -50.419\n",
      "visibility         -0.7525      1.146     -0.656      0.512      -3.007       1.503\n",
      "windSpeed          -0.6499      0.324     -2.006      0.046      -1.287      -0.012\n",
      "windBearing         0.0227      0.012      1.925      0.055      -0.000       0.046\n",
      "precipIntensity   206.7511    118.788      1.741      0.083     -26.937     440.439\n",
      "dewPoint            3.2433      1.069      3.034      0.003       1.140       5.346\n",
      "==============================================================================\n",
      "Omnibus:                       94.544   Durbin-Watson:                   1.177\n",
      "Prob(Omnibus):                  0.000   Jarque-Bera (JB):              206.339\n",
      "Skew:                           1.433   Prob(JB):                     1.56e-45\n",
      "Kurtosis:                       5.571   Cond. No.                     3.45e+04\n",
      "==============================================================================\n",
      "\n",
      "Notes:\n",
      "[1] Standard Errors assume that the covariance matrix of the errors is correctly specified.\n",
      "[2] The condition number is large, 3.45e+04. This might indicate that there are\n",
      "strong multicollinearity or other numerical problems.\n"
     ]
    }
   ],
   "source": [
    "linearModel_4 = sm.OLS(y_train, x_train_lm).fit()\n",
    "print(linearModel_4.summary())"
   ]
  },
  {
   "cell_type": "markdown",
   "metadata": {},
   "source": [
    "<b> P-Value of 'visibility' is pretty high, so we'll drop this feature from our model. </b>"
   ]
  },
  {
   "cell_type": "code",
   "execution_count": 306,
   "metadata": {},
   "outputs": [],
   "source": [
    "updatedTrainingData = updatedTrainingData.drop('visibility', 1,)"
   ]
  },
  {
   "cell_type": "markdown",
   "metadata": {},
   "source": [
    "Adding a constant"
   ]
  },
  {
   "cell_type": "code",
   "execution_count": 307,
   "metadata": {},
   "outputs": [],
   "source": [
    "x_train_lm = sm.add_constant(updatedTrainingData)"
   ]
  },
  {
   "cell_type": "markdown",
   "metadata": {},
   "source": [
    "Creating an updated Linear Regression Model after dropping features"
   ]
  },
  {
   "cell_type": "code",
   "execution_count": 308,
   "metadata": {},
   "outputs": [
    {
     "name": "stdout",
     "output_type": "stream",
     "text": [
      "                            OLS Regression Results                            \n",
      "==============================================================================\n",
      "Dep. Variable:               use [kW]   R-squared:                       0.079\n",
      "Model:                            OLS   Adj. R-squared:                  0.062\n",
      "Method:                 Least Squares   F-statistic:                     4.649\n",
      "Date:                Wed, 19 May 2021   Prob (F-statistic):           0.000149\n",
      "Time:                        00:01:37   Log-Likelihood:                -1358.4\n",
      "No. Observations:                 334   AIC:                             2731.\n",
      "Df Residuals:                     327   BIC:                             2757.\n",
      "Df Model:                           6                                         \n",
      "Covariance Type:            nonrobust                                         \n",
      "===================================================================================\n",
      "                      coef    std err          t      P>|t|      [0.025      0.975]\n",
      "-----------------------------------------------------------------------------------\n",
      "const             136.5697     36.515      3.740      0.000      64.735     208.404\n",
      "temperature        -2.5967      0.891     -2.915      0.004      -4.349      -0.844\n",
      "humidity         -131.2287     41.587     -3.156      0.002    -213.040     -49.417\n",
      "windSpeed          -0.6257      0.322     -1.945      0.053      -1.258       0.007\n",
      "windBearing         0.0229      0.012      1.940      0.053      -0.000       0.046\n",
      "precipIntensity   227.9498    114.215      1.996      0.047       3.261     452.638\n",
      "dewPoint            2.9158      0.945      3.087      0.002       1.058       4.774\n",
      "==============================================================================\n",
      "Omnibus:                       95.088   Durbin-Watson:                   1.181\n",
      "Prob(Omnibus):                  0.000   Jarque-Bera (JB):              207.341\n",
      "Skew:                           1.443   Prob(JB):                     9.47e-46\n",
      "Kurtosis:                       5.564   Cond. No.                     3.34e+04\n",
      "==============================================================================\n",
      "\n",
      "Notes:\n",
      "[1] Standard Errors assume that the covariance matrix of the errors is correctly specified.\n",
      "[2] The condition number is large, 3.34e+04. This might indicate that there are\n",
      "strong multicollinearity or other numerical problems.\n"
     ]
    }
   ],
   "source": [
    "linearModel_5 = sm.OLS(y_train, x_train_lm).fit()\n",
    "print(linearModel_5.summary())"
   ]
  },
  {
   "cell_type": "markdown",
   "metadata": {},
   "source": [
    "<b> As we've reached a point where the maximum p-value is 0.053 amongst all the features, let's test how our model works right now. </b>"
   ]
  },
  {
   "cell_type": "markdown",
   "metadata": {},
   "source": [
    "Residual Analysis of the Training Data"
   ]
  },
  {
   "cell_type": "markdown",
   "metadata": {},
   "source": [
    "We have to check if the error terms are normally distributed (which is one of the major assumptions of linear regression)"
   ]
  },
  {
   "cell_type": "code",
   "execution_count": 309,
   "metadata": {},
   "outputs": [
    {
     "name": "stderr",
     "output_type": "stream",
     "text": [
      "/anaconda3/lib/python3.7/site-packages/seaborn/distributions.py:2551: FutureWarning: `distplot` is a deprecated function and will be removed in a future version. Please adapt your code to use either `displot` (a figure-level function with similar flexibility) or `histplot` (an axes-level function for histograms).\n",
      "  warnings.warn(msg, FutureWarning)\n"
     ]
    },
    {
     "data": {
      "text/plain": [
       "Text(0.5, 0, 'Errors')"
      ]
     },
     "execution_count": 309,
     "metadata": {},
     "output_type": "execute_result"
    },
    {
     "data": {
      "image/png": "[encoded data removed]",
      "text/plain": [
       "<Figure size 432x288 with 1 Axes>"
      ]
     },
     "metadata": {
      "needs_background": "light"
     },
     "output_type": "display_data"
    }
   ],
   "source": [
    "y_train_price = linearModel_5.predict(x_train_lm)\n",
    "# Plot the histogram of the error terms\n",
    "fig = plt.figure()\n",
    "sns.distplot((y_train - y_train_price), bins = 20)\n",
    "fig.suptitle('Error Terms', fontsize = 20)                  # Plot heading \n",
    "plt.xlabel('Errors', fontsize = 18)  "
   ]
  },
  {
   "cell_type": "markdown",
   "metadata": {},
   "source": [
    "As we can see, the error terms are quite similar to a normal distribution. Therefore, we can go ahead and make some predictions using the model in the test dataset."
   ]
  },
  {
   "cell_type": "code",
   "execution_count": 310,
   "metadata": {},
   "outputs": [],
   "source": [
    "testingDataCheck = sm.add_constant(testingData)"
   ]
  },
  {
   "cell_type": "code",
   "execution_count": 311,
   "metadata": {},
   "outputs": [],
   "source": [
    "testingDataCheck = testingDataCheck.drop([\"precipProbability\", \"visibility\", \"pressure\", \"cloudCover\"], axis=1)"
   ]
  },
  {
   "cell_type": "markdown",
   "metadata": {},
   "source": [
    "Predicting the Energy Usage for Test Data"
   ]
  },
  {
   "cell_type": "code",
   "execution_count": 312,
   "metadata": {},
   "outputs": [],
   "source": [
    "energy_prediction_1 = linearModel_5.predict(testingDataCheck)"
   ]
  },
  {
   "cell_type": "markdown",
   "metadata": {},
   "source": [
    "Checking the $r^2$ for the Model"
   ]
  },
  {
   "cell_type": "code",
   "execution_count": 313,
   "metadata": {},
   "outputs": [
    {
     "data": {
      "text/plain": [
       "0.014616829939679277"
      ]
     },
     "execution_count": 313,
     "metadata": {},
     "output_type": "execute_result"
    }
   ],
   "source": [
    "r2_score(y_true = testingDataOriginalEnergy, y_pred = energy_prediction_1)"
   ]
  },
  {
   "cell_type": "markdown",
   "metadata": {},
   "source": [
    "$r^2$ of 0.0146 seems pretty low, let's see if we can improve our model by dropping more features."
   ]
  },
  {
   "cell_type": "markdown",
   "metadata": {},
   "source": [
    "Mean Absolute Error"
   ]
  },
  {
   "cell_type": "code",
   "execution_count": 314,
   "metadata": {},
   "outputs": [
    {
     "name": "stdout",
     "output_type": "stream",
     "text": [
      "MAE:  7.650453837665506\n"
     ]
    }
   ],
   "source": [
    "print(\"MAE: \", metrics.mean_absolute_error(testingDataOriginalEnergy, energy_prediction_1))"
   ]
  },
  {
   "cell_type": "markdown",
   "metadata": {},
   "source": [
    "Mean Squared Error"
   ]
  },
  {
   "cell_type": "code",
   "execution_count": 315,
   "metadata": {},
   "outputs": [
    {
     "name": "stdout",
     "output_type": "stream",
     "text": [
      "MSE:  117.56480510290437\n"
     ]
    }
   ],
   "source": [
    "print(\"MSE: \", metrics.mean_squared_error(testingDataOriginalEnergy, energy_prediction_1))"
   ]
  },
  {
   "cell_type": "markdown",
   "metadata": {},
   "source": [
    "Root Mean Squared Error"
   ]
  },
  {
   "cell_type": "code",
   "execution_count": 316,
   "metadata": {},
   "outputs": [
    {
     "name": "stdout",
     "output_type": "stream",
     "text": [
      "RMSE:  10.842730518780977\n"
     ]
    }
   ],
   "source": [
    "print(\"RMSE: \", np.sqrt(metrics.mean_squared_error(testingDataOriginalEnergy, energy_prediction_1)))"
   ]
  },
  {
   "cell_type": "markdown",
   "metadata": {},
   "source": [
    "<b> Due to high RMSE, we'll continue feature reduction! </b>"
   ]
  },
  {
   "cell_type": "markdown",
   "metadata": {},
   "source": [
    "<b> P-Value of 'windBearing' is high, so we'll drop this feature from our model. </b>"
   ]
  },
  {
   "cell_type": "code",
   "execution_count": 317,
   "metadata": {},
   "outputs": [],
   "source": [
    "updatedTrainingData = updatedTrainingData.drop('windBearing', 1,)"
   ]
  },
  {
   "cell_type": "markdown",
   "metadata": {},
   "source": [
    "Adding a constant"
   ]
  },
  {
   "cell_type": "code",
   "execution_count": 318,
   "metadata": {},
   "outputs": [],
   "source": [
    "x_train_lm = sm.add_constant(updatedTrainingData)"
   ]
  },
  {
   "cell_type": "markdown",
   "metadata": {},
   "source": [
    "Creating an updated Linear Regression Model after dropping features"
   ]
  },
  {
   "cell_type": "code",
   "execution_count": 319,
   "metadata": {},
   "outputs": [
    {
     "name": "stdout",
     "output_type": "stream",
     "text": [
      "                            OLS Regression Results                            \n",
      "==============================================================================\n",
      "Dep. Variable:               use [kW]   R-squared:                       0.068\n",
      "Model:                            OLS   Adj. R-squared:                  0.054\n",
      "Method:                 Least Squares   F-statistic:                     4.786\n",
      "Date:                Wed, 19 May 2021   Prob (F-statistic):           0.000309\n",
      "Time:                        00:01:38   Log-Likelihood:                -1360.3\n",
      "No. Observations:                 334   AIC:                             2733.\n",
      "Df Residuals:                     328   BIC:                             2755.\n",
      "Df Model:                           5                                         \n",
      "Covariance Type:            nonrobust                                         \n",
      "===================================================================================\n",
      "                      coef    std err          t      P>|t|      [0.025      0.975]\n",
      "-----------------------------------------------------------------------------------\n",
      "const             141.6702     36.573      3.874      0.000      69.722     213.618\n",
      "temperature        -2.5585      0.894     -2.860      0.005      -4.318      -0.799\n",
      "humidity         -133.7313     41.741     -3.204      0.001    -215.846     -51.617\n",
      "windSpeed          -0.4841      0.315     -1.539      0.125      -1.103       0.135\n",
      "precipIntensity   193.3188    113.285      1.706      0.089     -29.538     416.176\n",
      "dewPoint            2.8795      0.948      3.036      0.003       1.014       4.745\n",
      "==============================================================================\n",
      "Omnibus:                       92.123   Durbin-Watson:                   1.167\n",
      "Prob(Omnibus):                  0.000   Jarque-Bera (JB):              195.261\n",
      "Skew:                           1.413   Prob(JB):                     3.98e-43\n",
      "Kurtosis:                       5.459   Cond. No.                     9.95e+03\n",
      "==============================================================================\n",
      "\n",
      "Notes:\n",
      "[1] Standard Errors assume that the covariance matrix of the errors is correctly specified.\n",
      "[2] The condition number is large, 9.95e+03. This might indicate that there are\n",
      "strong multicollinearity or other numerical problems.\n"
     ]
    }
   ],
   "source": [
    "linearModel_6 = sm.OLS(y_train, x_train_lm).fit()\n",
    "\n",
    "print(linearModel_6.summary())"
   ]
  },
  {
   "cell_type": "markdown",
   "metadata": {},
   "source": [
    "<b> P-Value of 'windSpeed' is high, so we'll drop this feature from our model. </b>"
   ]
  },
  {
   "cell_type": "code",
   "execution_count": 320,
   "metadata": {},
   "outputs": [],
   "source": [
    "updatedTrainingData = updatedTrainingData.drop('windSpeed', 1,)"
   ]
  },
  {
   "cell_type": "markdown",
   "metadata": {},
   "source": [
    "Adding a constant"
   ]
  },
  {
   "cell_type": "code",
   "execution_count": 321,
   "metadata": {},
   "outputs": [],
   "source": [
    "x_train_lm = sm.add_constant(updatedTrainingData)"
   ]
  },
  {
   "cell_type": "code",
   "execution_count": 322,
   "metadata": {},
   "outputs": [
    {
     "name": "stdout",
     "output_type": "stream",
     "text": [
      "                            OLS Regression Results                            \n",
      "==============================================================================\n",
      "Dep. Variable:               use [kW]   R-squared:                       0.061\n",
      "Model:                            OLS   Adj. R-squared:                  0.050\n",
      "Method:                 Least Squares   F-statistic:                     5.368\n",
      "Date:                Wed, 19 May 2021   Prob (F-statistic):           0.000337\n",
      "Time:                        00:01:38   Log-Likelihood:                -1361.5\n",
      "No. Observations:                 334   AIC:                             2733.\n",
      "Df Residuals:                     329   BIC:                             2752.\n",
      "Df Model:                           4                                         \n",
      "Covariance Type:            nonrobust                                         \n",
      "===================================================================================\n",
      "                      coef    std err          t      P>|t|      [0.025      0.975]\n",
      "-----------------------------------------------------------------------------------\n",
      "const             124.9592     34.997      3.571      0.000      56.113     193.806\n",
      "temperature        -2.2917      0.879     -2.606      0.010      -4.021      -0.562\n",
      "humidity         -117.4021     40.454     -2.902      0.004    -196.984     -37.820\n",
      "precipIntensity   133.9333    106.733      1.255      0.210     -76.032     343.898\n",
      "dewPoint            2.6052      0.933      2.791      0.006       0.769       4.441\n",
      "==============================================================================\n",
      "Omnibus:                       92.254   Durbin-Watson:                   1.149\n",
      "Prob(Omnibus):                  0.000   Jarque-Bera (JB):              196.658\n",
      "Skew:                           1.411   Prob(JB):                     1.98e-43\n",
      "Kurtosis:                       5.483   Cond. No.                     9.28e+03\n",
      "==============================================================================\n",
      "\n",
      "Notes:\n",
      "[1] Standard Errors assume that the covariance matrix of the errors is correctly specified.\n",
      "[2] The condition number is large, 9.28e+03. This might indicate that there are\n",
      "strong multicollinearity or other numerical problems.\n"
     ]
    }
   ],
   "source": [
    "linearModel_7 = sm.OLS(y_train, x_train_lm).fit()\n",
    "\n",
    "print(linearModel_7.summary())"
   ]
  },
  {
   "cell_type": "markdown",
   "metadata": {},
   "source": [
    "<b> P-Value of 'precipIntensity' is  high, so we'll drop this feature from our model. </b>"
   ]
  },
  {
   "cell_type": "code",
   "execution_count": 323,
   "metadata": {},
   "outputs": [],
   "source": [
    "updatedTrainingData = updatedTrainingData.drop('precipIntensity', 1,)"
   ]
  },
  {
   "cell_type": "markdown",
   "metadata": {},
   "source": [
    "Adding a constant"
   ]
  },
  {
   "cell_type": "code",
   "execution_count": 324,
   "metadata": {},
   "outputs": [],
   "source": [
    "x_train_lm = sm.add_constant(updatedTrainingData)"
   ]
  },
  {
   "cell_type": "markdown",
   "metadata": {},
   "source": [
    "Creating an updated Linear Regression Model after dropping features"
   ]
  },
  {
   "cell_type": "code",
   "execution_count": 325,
   "metadata": {},
   "outputs": [
    {
     "name": "stdout",
     "output_type": "stream",
     "text": [
      "                            OLS Regression Results                            \n",
      "==============================================================================\n",
      "Dep. Variable:               use [kW]   R-squared:                       0.057\n",
      "Model:                            OLS   Adj. R-squared:                  0.048\n",
      "Method:                 Least Squares   F-statistic:                     6.621\n",
      "Date:                Wed, 19 May 2021   Prob (F-statistic):           0.000235\n",
      "Time:                        00:01:38   Log-Likelihood:                -1362.3\n",
      "No. Observations:                 334   AIC:                             2733.\n",
      "Df Residuals:                     330   BIC:                             2748.\n",
      "Df Model:                           3                                         \n",
      "Covariance Type:            nonrobust                                         \n",
      "===============================================================================\n",
      "                  coef    std err          t      P>|t|      [0.025      0.975]\n",
      "-------------------------------------------------------------------------------\n",
      "const         117.6498     34.539      3.406      0.001      49.705     185.594\n",
      "temperature    -2.1677      0.874     -2.479      0.014      -3.888      -0.447\n",
      "humidity     -107.2996     39.680     -2.704      0.007    -185.357     -29.242\n",
      "dewPoint        2.4698      0.928      2.662      0.008       0.644       4.295\n",
      "==============================================================================\n",
      "Omnibus:                       89.860   Durbin-Watson:                   1.149\n",
      "Prob(Omnibus):                  0.000   Jarque-Bera (JB):              184.622\n",
      "Skew:                           1.396   Prob(JB):                     8.13e-41\n",
      "Kurtosis:                       5.339   Cond. No.                     4.54e+03\n",
      "==============================================================================\n",
      "\n",
      "Notes:\n",
      "[1] Standard Errors assume that the covariance matrix of the errors is correctly specified.\n",
      "[2] The condition number is large, 4.54e+03. This might indicate that there are\n",
      "strong multicollinearity or other numerical problems.\n"
     ]
    }
   ],
   "source": [
    "linearModel_8 = sm.OLS(y_train, x_train_lm).fit()\n",
    "\n",
    "print(linearModel_8.summary())"
   ]
  },
  {
   "cell_type": "markdown",
   "metadata": {},
   "source": [
    "<b> We've reached a point where the maximum p-value is 0.014 amongst all the features, let's test how our model works right now. </b>"
   ]
  },
  {
   "cell_type": "markdown",
   "metadata": {},
   "source": [
    "Residual Analysis of the Training Data"
   ]
  },
  {
   "cell_type": "code",
   "execution_count": 326,
   "metadata": {},
   "outputs": [
    {
     "name": "stderr",
     "output_type": "stream",
     "text": [
      "/anaconda3/lib/python3.7/site-packages/seaborn/distributions.py:2551: FutureWarning: `distplot` is a deprecated function and will be removed in a future version. Please adapt your code to use either `displot` (a figure-level function with similar flexibility) or `histplot` (an axes-level function for histograms).\n",
      "  warnings.warn(msg, FutureWarning)\n"
     ]
    },
    {
     "data": {
      "text/plain": [
       "Text(0.5, 0, 'Errors')"
      ]
     },
     "execution_count": 326,
     "metadata": {},
     "output_type": "execute_result"
    },
    {
     "data": {
      "image/png": "[encoded data removed]",
      "text/plain": [
       "<Figure size 432x288 with 1 Axes>"
      ]
     },
     "metadata": {
      "needs_background": "light"
     },
     "output_type": "display_data"
    }
   ],
   "source": [
    "y_train_price = linearModel_8.predict(x_train_lm)\n",
    "# Plot the histogram of the error terms\n",
    "fig = plt.figure()\n",
    "sns.distplot((y_train - y_train_price), bins = 20)\n",
    "fig.suptitle('Error Terms', fontsize = 20)                  # Plot heading \n",
    "plt.xlabel('Errors', fontsize = 18)  "
   ]
  },
  {
   "cell_type": "markdown",
   "metadata": {},
   "source": [
    "As we can see, the error terms are quite similar to a normal distribution. Therefore, we can go ahead and make some predictions using the model in the test dataset."
   ]
  },
  {
   "cell_type": "code",
   "execution_count": 327,
   "metadata": {},
   "outputs": [],
   "source": [
    "testingDataCheck = sm.add_constant(testingData)"
   ]
  },
  {
   "cell_type": "code",
   "execution_count": 328,
   "metadata": {},
   "outputs": [],
   "source": [
    "testingDataCheck = testingDataCheck.drop([\"precipProbability\", \"precipIntensity\", \"windSpeed\", \"windBearing\", \"visibility\", \"pressure\", \"cloudCover\"], axis=1)"
   ]
  },
  {
   "cell_type": "markdown",
   "metadata": {},
   "source": [
    "Predicting the Energy Usage for Test Data"
   ]
  },
  {
   "cell_type": "code",
   "execution_count": 329,
   "metadata": {},
   "outputs": [],
   "source": [
    "energy_prediction_2 = linearModel_8.predict(testingDataCheck)"
   ]
  },
  {
   "cell_type": "markdown",
   "metadata": {},
   "source": [
    "Checking the $r^2$ for the Model"
   ]
  },
  {
   "cell_type": "code",
   "execution_count": 330,
   "metadata": {},
   "outputs": [
    {
     "data": {
      "text/plain": [
       "0.1647190955972433"
      ]
     },
     "execution_count": 330,
     "metadata": {},
     "output_type": "execute_result"
    }
   ],
   "source": [
    "r2_score(y_true = testingDataOriginalEnergy, y_pred = energy_prediction_2)"
   ]
  },
  {
   "cell_type": "markdown",
   "metadata": {},
   "source": [
    "$r^2$ of 0.1647 means that our current model is 11 times better than the previous model that we used to predict. "
   ]
  },
  {
   "cell_type": "markdown",
   "metadata": {},
   "source": [
    "#### Model Performance "
   ]
  },
  {
   "cell_type": "markdown",
   "metadata": {},
   "source": [
    "<b> $r^2$ </b>"
   ]
  },
  {
   "cell_type": "markdown",
   "metadata": {},
   "source": [
    "$r^2$ = 0.1647 is good as it is between 0 and 1. \n",
    "This means that there is only 16% less variation around the line than the mean. "
   ]
  },
  {
   "cell_type": "markdown",
   "metadata": {},
   "source": [
    "<b> Analysis of the Training Data </b>"
   ]
  },
  {
   "cell_type": "code",
   "execution_count": 331,
   "metadata": {},
   "outputs": [
    {
     "name": "stderr",
     "output_type": "stream",
     "text": [
      "/anaconda3/lib/python3.7/site-packages/seaborn/distributions.py:2551: FutureWarning: `distplot` is a deprecated function and will be removed in a future version. Please adapt your code to use either `displot` (a figure-level function with similar flexibility) or `histplot` (an axes-level function for histograms).\n",
      "  warnings.warn(msg, FutureWarning)\n"
     ]
    },
    {
     "data": {
      "text/plain": [
       "Text(0.5, 0, 'Errors')"
      ]
     },
     "execution_count": 331,
     "metadata": {},
     "output_type": "execute_result"
    },
    {
     "data": {
      "image/png": "[encoded data removed]",
      "text/plain": [
       "<Figure size 432x288 with 1 Axes>"
      ]
     },
     "metadata": {
      "needs_background": "light"
     },
     "output_type": "display_data"
    }
   ],
   "source": [
    "y_train_price = linearModel_8.predict(x_train_lm)\n",
    "# Plot the histogram of the error terms\n",
    "fig = plt.figure()\n",
    "sns.distplot((y_train - y_train_price), bins = 20)\n",
    "fig.suptitle('Error Terms', fontsize = 20)                  # Plot heading \n",
    "plt.xlabel('Errors', fontsize = 18)  "
   ]
  },
  {
   "cell_type": "markdown",
   "metadata": {},
   "source": [
    "Plotting the distribution of errors helps a lot in understanding about the outliers and how the error value is spread. The more the distribution is \"Right-Skewed\", the better is the model performing. This means most of the points have a low error and there are very few points having high error value which are not significant. "
   ]
  },
  {
   "cell_type": "markdown",
   "metadata": {},
   "source": [
    "Mean Absolute Error"
   ]
  },
  {
   "cell_type": "code",
   "execution_count": 332,
   "metadata": {},
   "outputs": [
    {
     "name": "stdout",
     "output_type": "stream",
     "text": [
      "MAE:  7.357809235769315\n"
     ]
    }
   ],
   "source": [
    "print(\"MAE: \", metrics.mean_absolute_error(testingDataOriginalEnergy, energy_prediction_2))"
   ]
  },
  {
   "cell_type": "markdown",
   "metadata": {},
   "source": [
    "Mean Squared Error"
   ]
  },
  {
   "cell_type": "code",
   "execution_count": 333,
   "metadata": {},
   "outputs": [
    {
     "name": "stdout",
     "output_type": "stream",
     "text": [
      "MSE:  99.65629586131094\n"
     ]
    }
   ],
   "source": [
    "print(\"MSE: \", metrics.mean_squared_error(testingDataOriginalEnergy, energy_prediction_2))"
   ]
  },
  {
   "cell_type": "markdown",
   "metadata": {},
   "source": [
    "Root Mean Squared Error"
   ]
  },
  {
   "cell_type": "code",
   "execution_count": 334,
   "metadata": {},
   "outputs": [
    {
     "name": "stdout",
     "output_type": "stream",
     "text": [
      "RMSE:  9.982800001067384\n"
     ]
    }
   ],
   "source": [
    "print(\"RMSE: \", np.sqrt(metrics.mean_squared_error(testingDataOriginalEnergy, energy_prediction_2)))"
   ]
  },
  {
   "cell_type": "markdown",
   "metadata": {},
   "source": [
    "<b> With an RMSE of 9.9 we can say that this model works pretty well for the given dataset. </b>"
   ]
  },
  {
   "cell_type": "markdown",
   "metadata": {},
   "source": [
    "Saving the Predicted Values to CSV File"
   ]
  },
  {
   "cell_type": "code",
   "execution_count": 335,
   "metadata": {},
   "outputs": [],
   "source": [
    "file = pd.DataFrame(energy_prediction_2)"
   ]
  },
  {
   "cell_type": "code",
   "execution_count": 336,
   "metadata": {},
   "outputs": [],
   "source": [
    "file.rename_axis('date', inplace=True)"
   ]
  },
  {
   "cell_type": "code",
   "execution_count": 337,
   "metadata": {},
   "outputs": [
    {
     "data": {
      "text/html": [
       "<div>\n",
       "<style scoped>\n",
       "    .dataframe tbody tr th:only-of-type {\n",
       "        vertical-align: middle;\n",
       "    }\n",
       "\n",
       "    .dataframe tbody tr th {\n",
       "        vertical-align: top;\n",
       "    }\n",
       "\n",
       "    .dataframe thead th {\n",
       "        text-align: right;\n",
       "    }\n",
       "</style>\n",
       "<table border=\"1\" class=\"dataframe\">\n",
       "  <thead>\n",
       "    <tr style=\"text-align: right;\">\n",
       "      <th></th>\n",
       "      <th>Predicted Value</th>\n",
       "    </tr>\n",
       "    <tr>\n",
       "      <th>date</th>\n",
       "      <th></th>\n",
       "    </tr>\n",
       "  </thead>\n",
       "  <tbody>\n",
       "    <tr>\n",
       "      <th>2014-12-01</th>\n",
       "      <td>32.785025</td>\n",
       "    </tr>\n",
       "    <tr>\n",
       "      <th>2014-12-02</th>\n",
       "      <td>32.895366</td>\n",
       "    </tr>\n",
       "    <tr>\n",
       "      <th>2014-12-03</th>\n",
       "      <td>25.042986</td>\n",
       "    </tr>\n",
       "    <tr>\n",
       "      <th>2014-12-04</th>\n",
       "      <td>32.717275</td>\n",
       "    </tr>\n",
       "    <tr>\n",
       "      <th>2014-12-05</th>\n",
       "      <td>28.737435</td>\n",
       "    </tr>\n",
       "    <tr>\n",
       "      <th>2014-12-06</th>\n",
       "      <td>24.553853</td>\n",
       "    </tr>\n",
       "    <tr>\n",
       "      <th>2014-12-07</th>\n",
       "      <td>29.573629</td>\n",
       "    </tr>\n",
       "    <tr>\n",
       "      <th>2014-12-08</th>\n",
       "      <td>30.552145</td>\n",
       "    </tr>\n",
       "    <tr>\n",
       "      <th>2014-12-09</th>\n",
       "      <td>25.599459</td>\n",
       "    </tr>\n",
       "    <tr>\n",
       "      <th>2014-12-10</th>\n",
       "      <td>25.268110</td>\n",
       "    </tr>\n",
       "    <tr>\n",
       "      <th>2014-12-11</th>\n",
       "      <td>26.555011</td>\n",
       "    </tr>\n",
       "    <tr>\n",
       "      <th>2014-12-12</th>\n",
       "      <td>28.938629</td>\n",
       "    </tr>\n",
       "    <tr>\n",
       "      <th>2014-12-13</th>\n",
       "      <td>30.434000</td>\n",
       "    </tr>\n",
       "    <tr>\n",
       "      <th>2014-12-14</th>\n",
       "      <td>28.959345</td>\n",
       "    </tr>\n",
       "    <tr>\n",
       "      <th>2014-12-15</th>\n",
       "      <td>30.680415</td>\n",
       "    </tr>\n",
       "    <tr>\n",
       "      <th>2014-12-16</th>\n",
       "      <td>25.218663</td>\n",
       "    </tr>\n",
       "    <tr>\n",
       "      <th>2014-12-17</th>\n",
       "      <td>27.017109</td>\n",
       "    </tr>\n",
       "    <tr>\n",
       "      <th>2014-12-18</th>\n",
       "      <td>31.766768</td>\n",
       "    </tr>\n",
       "    <tr>\n",
       "      <th>2014-12-19</th>\n",
       "      <td>31.931447</td>\n",
       "    </tr>\n",
       "    <tr>\n",
       "      <th>2014-12-20</th>\n",
       "      <td>29.519710</td>\n",
       "    </tr>\n",
       "    <tr>\n",
       "      <th>2014-12-21</th>\n",
       "      <td>26.605732</td>\n",
       "    </tr>\n",
       "    <tr>\n",
       "      <th>2014-12-22</th>\n",
       "      <td>26.922429</td>\n",
       "    </tr>\n",
       "    <tr>\n",
       "      <th>2014-12-23</th>\n",
       "      <td>26.474121</td>\n",
       "    </tr>\n",
       "    <tr>\n",
       "      <th>2014-12-24</th>\n",
       "      <td>25.756479</td>\n",
       "    </tr>\n",
       "    <tr>\n",
       "      <th>2014-12-25</th>\n",
       "      <td>30.372237</td>\n",
       "    </tr>\n",
       "    <tr>\n",
       "      <th>2014-12-26</th>\n",
       "      <td>33.883735</td>\n",
       "    </tr>\n",
       "    <tr>\n",
       "      <th>2014-12-27</th>\n",
       "      <td>28.713252</td>\n",
       "    </tr>\n",
       "    <tr>\n",
       "      <th>2014-12-28</th>\n",
       "      <td>31.023693</td>\n",
       "    </tr>\n",
       "    <tr>\n",
       "      <th>2014-12-29</th>\n",
       "      <td>32.110966</td>\n",
       "    </tr>\n",
       "    <tr>\n",
       "      <th>2014-12-30</th>\n",
       "      <td>30.541673</td>\n",
       "    </tr>\n",
       "    <tr>\n",
       "      <th>2014-12-31</th>\n",
       "      <td>29.171819</td>\n",
       "    </tr>\n",
       "  </tbody>\n",
       "</table>\n",
       "</div>"
      ],
      "text/plain": [
       "            Predicted Value\n",
       "date                       \n",
       "2014-12-01        32.785025\n",
       "2014-12-02        32.895366\n",
       "2014-12-03        25.042986\n",
       "2014-12-04        32.717275\n",
       "2014-12-05        28.737435\n",
       "2014-12-06        24.553853\n",
       "2014-12-07        29.573629\n",
       "2014-12-08        30.552145\n",
       "2014-12-09        25.599459\n",
       "2014-12-10        25.268110\n",
       "2014-12-11        26.555011\n",
       "2014-12-12        28.938629\n",
       "2014-12-13        30.434000\n",
       "2014-12-14        28.959345\n",
       "2014-12-15        30.680415\n",
       "2014-12-16        25.218663\n",
       "2014-12-17        27.017109\n",
       "2014-12-18        31.766768\n",
       "2014-12-19        31.931447\n",
       "2014-12-20        29.519710\n",
       "2014-12-21        26.605732\n",
       "2014-12-22        26.922429\n",
       "2014-12-23        26.474121\n",
       "2014-12-24        25.756479\n",
       "2014-12-25        30.372237\n",
       "2014-12-26        33.883735\n",
       "2014-12-27        28.713252\n",
       "2014-12-28        31.023693\n",
       "2014-12-29        32.110966\n",
       "2014-12-30        30.541673\n",
       "2014-12-31        29.171819"
      ]
     },
     "execution_count": 337,
     "metadata": {},
     "output_type": "execute_result"
    }
   ],
   "source": [
    "file.columns = [\"Predicted Value\"]\n",
    "file"
   ]
  },
  {
   "cell_type": "markdown",
   "metadata": {},
   "source": [
    "Writing the Predicted Values to CSV File."
   ]
  },
  {
   "cell_type": "code",
   "execution_count": 338,
   "metadata": {},
   "outputs": [],
   "source": [
    "file.to_csv(r\"/Users/sahilsarna/Documents/CSE351/HW2/CSE351_HW2_SARNA_SAHIL_109918198_LINEAR_REGRESSION.csv\", index=True)"
   ]
  },
  {
   "cell_type": "markdown",
   "metadata": {},
   "source": [
    "--------"
   ]
  },
  {
   "cell_type": "markdown",
   "metadata": {},
   "source": [
    "### TASK 4"
   ]
  },
  {
   "cell_type": "markdown",
   "metadata": {},
   "source": [
    "### Logistic Regression"
   ]
  },
  {
   "cell_type": "code",
   "execution_count": 339,
   "metadata": {},
   "outputs": [
    {
     "data": {
      "text/html": [
       "<div>\n",
       "<style scoped>\n",
       "    .dataframe tbody tr th:only-of-type {\n",
       "        vertical-align: middle;\n",
       "    }\n",
       "\n",
       "    .dataframe tbody tr th {\n",
       "        vertical-align: top;\n",
       "    }\n",
       "\n",
       "    .dataframe thead th {\n",
       "        text-align: right;\n",
       "    }\n",
       "</style>\n",
       "<table border=\"1\" class=\"dataframe\">\n",
       "  <thead>\n",
       "    <tr style=\"text-align: right;\">\n",
       "      <th></th>\n",
       "      <th>temperature</th>\n",
       "      <th>humidity</th>\n",
       "      <th>visibility</th>\n",
       "      <th>pressure</th>\n",
       "      <th>windSpeed</th>\n",
       "      <th>cloudCover</th>\n",
       "      <th>windBearing</th>\n",
       "      <th>precipIntensity</th>\n",
       "      <th>dewPoint</th>\n",
       "      <th>precipProbability</th>\n",
       "      <th>use [kW]</th>\n",
       "    </tr>\n",
       "    <tr>\n",
       "      <th>time</th>\n",
       "      <th></th>\n",
       "      <th></th>\n",
       "      <th></th>\n",
       "      <th></th>\n",
       "      <th></th>\n",
       "      <th></th>\n",
       "      <th></th>\n",
       "      <th></th>\n",
       "      <th></th>\n",
       "      <th></th>\n",
       "      <th></th>\n",
       "    </tr>\n",
       "  </thead>\n",
       "  <tbody>\n",
       "    <tr>\n",
       "      <th>2014-01-01</th>\n",
       "      <td>20.110833</td>\n",
       "      <td>0.556667</td>\n",
       "      <td>9.970000</td>\n",
       "      <td>1025.395000</td>\n",
       "      <td>6.820417</td>\n",
       "      <td>0.031304</td>\n",
       "      <td>252.291667</td>\n",
       "      <td>0.000000</td>\n",
       "      <td>6.362083</td>\n",
       "      <td>0.000000</td>\n",
       "      <td>65.013592</td>\n",
       "    </tr>\n",
       "    <tr>\n",
       "      <th>2014-01-02</th>\n",
       "      <td>16.382500</td>\n",
       "      <td>0.784583</td>\n",
       "      <td>3.834583</td>\n",
       "      <td>1023.465833</td>\n",
       "      <td>7.433750</td>\n",
       "      <td>0.354444</td>\n",
       "      <td>53.458333</td>\n",
       "      <td>0.002004</td>\n",
       "      <td>10.737083</td>\n",
       "      <td>0.074583</td>\n",
       "      <td>25.558434</td>\n",
       "    </tr>\n",
       "    <tr>\n",
       "      <th>2014-01-03</th>\n",
       "      <td>6.256667</td>\n",
       "      <td>0.680833</td>\n",
       "      <td>4.509167</td>\n",
       "      <td>1014.428750</td>\n",
       "      <td>12.828333</td>\n",
       "      <td>0.186364</td>\n",
       "      <td>207.333333</td>\n",
       "      <td>0.002029</td>\n",
       "      <td>-2.337500</td>\n",
       "      <td>0.080000</td>\n",
       "      <td>61.066203</td>\n",
       "    </tr>\n",
       "    <tr>\n",
       "      <th>2014-01-04</th>\n",
       "      <td>2.711667</td>\n",
       "      <td>0.617083</td>\n",
       "      <td>9.822917</td>\n",
       "      <td>1030.096250</td>\n",
       "      <td>5.248333</td>\n",
       "      <td>0.001667</td>\n",
       "      <td>240.166667</td>\n",
       "      <td>0.000000</td>\n",
       "      <td>-8.352083</td>\n",
       "      <td>0.000000</td>\n",
       "      <td>20.099577</td>\n",
       "    </tr>\n",
       "    <tr>\n",
       "      <th>2014-01-05</th>\n",
       "      <td>17.654167</td>\n",
       "      <td>0.682083</td>\n",
       "      <td>9.134583</td>\n",
       "      <td>1025.275000</td>\n",
       "      <td>3.417083</td>\n",
       "      <td>0.010952</td>\n",
       "      <td>208.958333</td>\n",
       "      <td>0.000033</td>\n",
       "      <td>8.615000</td>\n",
       "      <td>0.000417</td>\n",
       "      <td>16.245747</td>\n",
       "    </tr>\n",
       "  </tbody>\n",
       "</table>\n",
       "</div>"
      ],
      "text/plain": [
       "            temperature  humidity  visibility     pressure  windSpeed  \\\n",
       "time                                                                    \n",
       "2014-01-01    20.110833  0.556667    9.970000  1025.395000   6.820417   \n",
       "2014-01-02    16.382500  0.784583    3.834583  1023.465833   7.433750   \n",
       "2014-01-03     6.256667  0.680833    4.509167  1014.428750  12.828333   \n",
       "2014-01-04     2.711667  0.617083    9.822917  1030.096250   5.248333   \n",
       "2014-01-05    17.654167  0.682083    9.134583  1025.275000   3.417083   \n",
       "\n",
       "            cloudCover  windBearing  precipIntensity   dewPoint  \\\n",
       "time                                                              \n",
       "2014-01-01    0.031304   252.291667         0.000000   6.362083   \n",
       "2014-01-02    0.354444    53.458333         0.002004  10.737083   \n",
       "2014-01-03    0.186364   207.333333         0.002029  -2.337500   \n",
       "2014-01-04    0.001667   240.166667         0.000000  -8.352083   \n",
       "2014-01-05    0.010952   208.958333         0.000033   8.615000   \n",
       "\n",
       "            precipProbability   use [kW]  \n",
       "time                                      \n",
       "2014-01-01           0.000000  65.013592  \n",
       "2014-01-02           0.074583  25.558434  \n",
       "2014-01-03           0.080000  61.066203  \n",
       "2014-01-04           0.000000  20.099577  \n",
       "2014-01-05           0.000417  16.245747  "
      ]
     },
     "execution_count": 339,
     "metadata": {},
     "output_type": "execute_result"
    }
   ],
   "source": [
    "weatherData.head()"
   ]
  },
  {
   "cell_type": "code",
   "execution_count": 340,
   "metadata": {},
   "outputs": [],
   "source": [
    "weatherData = weatherData.drop(\"use [kW]\", axis=1)"
   ]
  },
  {
   "cell_type": "code",
   "execution_count": 341,
   "metadata": {},
   "outputs": [
    {
     "data": {
      "text/html": [
       "<div>\n",
       "<style scoped>\n",
       "    .dataframe tbody tr th:only-of-type {\n",
       "        vertical-align: middle;\n",
       "    }\n",
       "\n",
       "    .dataframe tbody tr th {\n",
       "        vertical-align: top;\n",
       "    }\n",
       "\n",
       "    .dataframe thead th {\n",
       "        text-align: right;\n",
       "    }\n",
       "</style>\n",
       "<table border=\"1\" class=\"dataframe\">\n",
       "  <thead>\n",
       "    <tr style=\"text-align: right;\">\n",
       "      <th></th>\n",
       "      <th>temperature</th>\n",
       "      <th>humidity</th>\n",
       "      <th>visibility</th>\n",
       "      <th>pressure</th>\n",
       "      <th>windSpeed</th>\n",
       "      <th>cloudCover</th>\n",
       "      <th>windBearing</th>\n",
       "      <th>precipIntensity</th>\n",
       "      <th>dewPoint</th>\n",
       "      <th>precipProbability</th>\n",
       "    </tr>\n",
       "    <tr>\n",
       "      <th>time</th>\n",
       "      <th></th>\n",
       "      <th></th>\n",
       "      <th></th>\n",
       "      <th></th>\n",
       "      <th></th>\n",
       "      <th></th>\n",
       "      <th></th>\n",
       "      <th></th>\n",
       "      <th></th>\n",
       "      <th></th>\n",
       "    </tr>\n",
       "  </thead>\n",
       "  <tbody>\n",
       "    <tr>\n",
       "      <th>2014-01-01</th>\n",
       "      <td>20.110833</td>\n",
       "      <td>0.556667</td>\n",
       "      <td>9.970000</td>\n",
       "      <td>1025.395000</td>\n",
       "      <td>6.820417</td>\n",
       "      <td>0.031304</td>\n",
       "      <td>252.291667</td>\n",
       "      <td>0.000000</td>\n",
       "      <td>6.362083</td>\n",
       "      <td>0.000000</td>\n",
       "    </tr>\n",
       "    <tr>\n",
       "      <th>2014-01-02</th>\n",
       "      <td>16.382500</td>\n",
       "      <td>0.784583</td>\n",
       "      <td>3.834583</td>\n",
       "      <td>1023.465833</td>\n",
       "      <td>7.433750</td>\n",
       "      <td>0.354444</td>\n",
       "      <td>53.458333</td>\n",
       "      <td>0.002004</td>\n",
       "      <td>10.737083</td>\n",
       "      <td>0.074583</td>\n",
       "    </tr>\n",
       "    <tr>\n",
       "      <th>2014-01-03</th>\n",
       "      <td>6.256667</td>\n",
       "      <td>0.680833</td>\n",
       "      <td>4.509167</td>\n",
       "      <td>1014.428750</td>\n",
       "      <td>12.828333</td>\n",
       "      <td>0.186364</td>\n",
       "      <td>207.333333</td>\n",
       "      <td>0.002029</td>\n",
       "      <td>-2.337500</td>\n",
       "      <td>0.080000</td>\n",
       "    </tr>\n",
       "    <tr>\n",
       "      <th>2014-01-04</th>\n",
       "      <td>2.711667</td>\n",
       "      <td>0.617083</td>\n",
       "      <td>9.822917</td>\n",
       "      <td>1030.096250</td>\n",
       "      <td>5.248333</td>\n",
       "      <td>0.001667</td>\n",
       "      <td>240.166667</td>\n",
       "      <td>0.000000</td>\n",
       "      <td>-8.352083</td>\n",
       "      <td>0.000000</td>\n",
       "    </tr>\n",
       "    <tr>\n",
       "      <th>2014-01-05</th>\n",
       "      <td>17.654167</td>\n",
       "      <td>0.682083</td>\n",
       "      <td>9.134583</td>\n",
       "      <td>1025.275000</td>\n",
       "      <td>3.417083</td>\n",
       "      <td>0.010952</td>\n",
       "      <td>208.958333</td>\n",
       "      <td>0.000033</td>\n",
       "      <td>8.615000</td>\n",
       "      <td>0.000417</td>\n",
       "    </tr>\n",
       "  </tbody>\n",
       "</table>\n",
       "</div>"
      ],
      "text/plain": [
       "            temperature  humidity  visibility     pressure  windSpeed  \\\n",
       "time                                                                    \n",
       "2014-01-01    20.110833  0.556667    9.970000  1025.395000   6.820417   \n",
       "2014-01-02    16.382500  0.784583    3.834583  1023.465833   7.433750   \n",
       "2014-01-03     6.256667  0.680833    4.509167  1014.428750  12.828333   \n",
       "2014-01-04     2.711667  0.617083    9.822917  1030.096250   5.248333   \n",
       "2014-01-05    17.654167  0.682083    9.134583  1025.275000   3.417083   \n",
       "\n",
       "            cloudCover  windBearing  precipIntensity   dewPoint  \\\n",
       "time                                                              \n",
       "2014-01-01    0.031304   252.291667         0.000000   6.362083   \n",
       "2014-01-02    0.354444    53.458333         0.002004  10.737083   \n",
       "2014-01-03    0.186364   207.333333         0.002029  -2.337500   \n",
       "2014-01-04    0.001667   240.166667         0.000000  -8.352083   \n",
       "2014-01-05    0.010952   208.958333         0.000033   8.615000   \n",
       "\n",
       "            precipProbability  \n",
       "time                           \n",
       "2014-01-01           0.000000  \n",
       "2014-01-02           0.074583  \n",
       "2014-01-03           0.080000  \n",
       "2014-01-04           0.000000  \n",
       "2014-01-05           0.000417  "
      ]
     },
     "execution_count": 341,
     "metadata": {},
     "output_type": "execute_result"
    }
   ],
   "source": [
    "weatherData.head()"
   ]
  },
  {
   "cell_type": "code",
   "execution_count": 342,
   "metadata": {},
   "outputs": [
    {
     "data": {
      "text/plain": [
       "time\n",
       "2014-01-01    20.110833\n",
       "2014-01-02    16.382500\n",
       "2014-01-03     6.256667\n",
       "2014-01-04     2.711667\n",
       "2014-01-05    17.654167\n",
       "                ...    \n",
       "2014-12-27    35.487083\n",
       "2014-12-28    41.892917\n",
       "2014-12-29    34.728333\n",
       "2014-12-30    24.846667\n",
       "2014-12-31    19.522917\n",
       "Freq: D, Name: temperature, Length: 365, dtype: float64"
      ]
     },
     "execution_count": 342,
     "metadata": {},
     "output_type": "execute_result"
    }
   ],
   "source": [
    "weatherData['temperature']"
   ]
  },
  {
   "cell_type": "markdown",
   "metadata": {},
   "source": [
    "Changing the values of temperature to 1 for any values equal to and above 35 and to 0 for any values below 35. "
   ]
  },
  {
   "cell_type": "code",
   "execution_count": 343,
   "metadata": {},
   "outputs": [],
   "source": [
    "tempType = []\n",
    "for temp in weatherData['temperature']:\n",
    "    if temp >= 35:\n",
    "        tempType.append(1)\n",
    "    else:\n",
    "        tempType.append(0)\n",
    "tempType\n",
    "weatherData['temperature'] = tempType"
   ]
  },
  {
   "cell_type": "code",
   "execution_count": 344,
   "metadata": {},
   "outputs": [
    {
     "data": {
      "text/html": [
       "<div>\n",
       "<style scoped>\n",
       "    .dataframe tbody tr th:only-of-type {\n",
       "        vertical-align: middle;\n",
       "    }\n",
       "\n",
       "    .dataframe tbody tr th {\n",
       "        vertical-align: top;\n",
       "    }\n",
       "\n",
       "    .dataframe thead th {\n",
       "        text-align: right;\n",
       "    }\n",
       "</style>\n",
       "<table border=\"1\" class=\"dataframe\">\n",
       "  <thead>\n",
       "    <tr style=\"text-align: right;\">\n",
       "      <th></th>\n",
       "      <th>temperature</th>\n",
       "      <th>humidity</th>\n",
       "      <th>visibility</th>\n",
       "      <th>pressure</th>\n",
       "      <th>windSpeed</th>\n",
       "      <th>cloudCover</th>\n",
       "      <th>windBearing</th>\n",
       "      <th>precipIntensity</th>\n",
       "      <th>dewPoint</th>\n",
       "      <th>precipProbability</th>\n",
       "    </tr>\n",
       "    <tr>\n",
       "      <th>time</th>\n",
       "      <th></th>\n",
       "      <th></th>\n",
       "      <th></th>\n",
       "      <th></th>\n",
       "      <th></th>\n",
       "      <th></th>\n",
       "      <th></th>\n",
       "      <th></th>\n",
       "      <th></th>\n",
       "      <th></th>\n",
       "    </tr>\n",
       "  </thead>\n",
       "  <tbody>\n",
       "    <tr>\n",
       "      <th>2014-01-01</th>\n",
       "      <td>0</td>\n",
       "      <td>0.556667</td>\n",
       "      <td>9.970000</td>\n",
       "      <td>1025.395000</td>\n",
       "      <td>6.820417</td>\n",
       "      <td>0.031304</td>\n",
       "      <td>252.291667</td>\n",
       "      <td>0.000000</td>\n",
       "      <td>6.362083</td>\n",
       "      <td>0.000000</td>\n",
       "    </tr>\n",
       "    <tr>\n",
       "      <th>2014-01-02</th>\n",
       "      <td>0</td>\n",
       "      <td>0.784583</td>\n",
       "      <td>3.834583</td>\n",
       "      <td>1023.465833</td>\n",
       "      <td>7.433750</td>\n",
       "      <td>0.354444</td>\n",
       "      <td>53.458333</td>\n",
       "      <td>0.002004</td>\n",
       "      <td>10.737083</td>\n",
       "      <td>0.074583</td>\n",
       "    </tr>\n",
       "    <tr>\n",
       "      <th>2014-01-03</th>\n",
       "      <td>0</td>\n",
       "      <td>0.680833</td>\n",
       "      <td>4.509167</td>\n",
       "      <td>1014.428750</td>\n",
       "      <td>12.828333</td>\n",
       "      <td>0.186364</td>\n",
       "      <td>207.333333</td>\n",
       "      <td>0.002029</td>\n",
       "      <td>-2.337500</td>\n",
       "      <td>0.080000</td>\n",
       "    </tr>\n",
       "    <tr>\n",
       "      <th>2014-01-04</th>\n",
       "      <td>0</td>\n",
       "      <td>0.617083</td>\n",
       "      <td>9.822917</td>\n",
       "      <td>1030.096250</td>\n",
       "      <td>5.248333</td>\n",
       "      <td>0.001667</td>\n",
       "      <td>240.166667</td>\n",
       "      <td>0.000000</td>\n",
       "      <td>-8.352083</td>\n",
       "      <td>0.000000</td>\n",
       "    </tr>\n",
       "    <tr>\n",
       "      <th>2014-01-05</th>\n",
       "      <td>0</td>\n",
       "      <td>0.682083</td>\n",
       "      <td>9.134583</td>\n",
       "      <td>1025.275000</td>\n",
       "      <td>3.417083</td>\n",
       "      <td>0.010952</td>\n",
       "      <td>208.958333</td>\n",
       "      <td>0.000033</td>\n",
       "      <td>8.615000</td>\n",
       "      <td>0.000417</td>\n",
       "    </tr>\n",
       "  </tbody>\n",
       "</table>\n",
       "</div>"
      ],
      "text/plain": [
       "            temperature  humidity  visibility     pressure  windSpeed  \\\n",
       "time                                                                    \n",
       "2014-01-01            0  0.556667    9.970000  1025.395000   6.820417   \n",
       "2014-01-02            0  0.784583    3.834583  1023.465833   7.433750   \n",
       "2014-01-03            0  0.680833    4.509167  1014.428750  12.828333   \n",
       "2014-01-04            0  0.617083    9.822917  1030.096250   5.248333   \n",
       "2014-01-05            0  0.682083    9.134583  1025.275000   3.417083   \n",
       "\n",
       "            cloudCover  windBearing  precipIntensity   dewPoint  \\\n",
       "time                                                              \n",
       "2014-01-01    0.031304   252.291667         0.000000   6.362083   \n",
       "2014-01-02    0.354444    53.458333         0.002004  10.737083   \n",
       "2014-01-03    0.186364   207.333333         0.002029  -2.337500   \n",
       "2014-01-04    0.001667   240.166667         0.000000  -8.352083   \n",
       "2014-01-05    0.010952   208.958333         0.000033   8.615000   \n",
       "\n",
       "            precipProbability  \n",
       "time                           \n",
       "2014-01-01           0.000000  \n",
       "2014-01-02           0.074583  \n",
       "2014-01-03           0.080000  \n",
       "2014-01-04           0.000000  \n",
       "2014-01-05           0.000417  "
      ]
     },
     "execution_count": 344,
     "metadata": {},
     "output_type": "execute_result"
    }
   ],
   "source": [
    "weatherData.head()"
   ]
  },
  {
   "cell_type": "markdown",
   "metadata": {},
   "source": [
    "Splitting The Training and Testing Datasets"
   ]
  },
  {
   "cell_type": "code",
   "execution_count": 345,
   "metadata": {},
   "outputs": [],
   "source": [
    "trainingData = weatherData['2014-01-01':'2014-11-30'] # Gets all months except December\n",
    "testingData = weatherData['2014-12-01':'2014-12-31'] # Gets December Values"
   ]
  },
  {
   "cell_type": "code",
   "execution_count": 346,
   "metadata": {},
   "outputs": [
    {
     "data": {
      "text/plain": [
       "1    254\n",
       "0     80\n",
       "Name: temperature, dtype: int64"
      ]
     },
     "execution_count": 346,
     "metadata": {},
     "output_type": "execute_result"
    }
   ],
   "source": [
    "trainingData['temperature'].value_counts()"
   ]
  },
  {
   "cell_type": "code",
   "execution_count": 347,
   "metadata": {},
   "outputs": [
    {
     "data": {
      "image/png": "[encoded data removed]",
      "text/plain": [
       "<Figure size 432x288 with 1 Axes>"
      ]
     },
     "metadata": {
      "needs_background": "light"
     },
     "output_type": "display_data"
    }
   ],
   "source": [
    "sns.countplot(x='temperature',data=trainingData)\n",
    "plt.show()"
   ]
  },
  {
   "cell_type": "code",
   "execution_count": 348,
   "metadata": {},
   "outputs": [
    {
     "name": "stdout",
     "output_type": "stream",
     "text": [
      "Percentage of High Temperature:  76.04790419161677\n",
      "Percentage of Low Temperature:  23.952095808383234\n"
     ]
    }
   ],
   "source": [
    "highPercentage = 254*100/334\n",
    "print(\"Percentage of High Temperature: \", highPercentage)\n",
    "lowPercentage = 80*100/334\n",
    "print(\"Percentage of Low Temperature: \", lowPercentage)"
   ]
  },
  {
   "cell_type": "markdown",
   "metadata": {},
   "source": [
    "Our classes are imbalanced and are of the ratio of High Temperature and Low Temperature is 76:24. Therefore we need to balance them before going forward. "
   ]
  },
  {
   "cell_type": "markdown",
   "metadata": {},
   "source": [
    "Separating Majority and Minority"
   ]
  },
  {
   "cell_type": "code",
   "execution_count": 349,
   "metadata": {},
   "outputs": [],
   "source": [
    "trainingDataMajority = trainingData[trainingData.temperature==1]\n",
    "trainingDataMinority = trainingData[trainingData.temperature==0]"
   ]
  },
  {
   "cell_type": "markdown",
   "metadata": {},
   "source": [
    "Adding Records for Minority Class "
   ]
  },
  {
   "cell_type": "code",
   "execution_count": 350,
   "metadata": {},
   "outputs": [],
   "source": [
    "trainingDataMinorityUpSampled = resample(trainingDataMinority,\n",
    "                                        replace=True,\n",
    "                                        n_samples=254,\n",
    "                                        random_state=123)"
   ]
  },
  {
   "cell_type": "code",
   "execution_count": 351,
   "metadata": {},
   "outputs": [
    {
     "data": {
      "text/html": [
       "<div>\n",
       "<style scoped>\n",
       "    .dataframe tbody tr th:only-of-type {\n",
       "        vertical-align: middle;\n",
       "    }\n",
       "\n",
       "    .dataframe tbody tr th {\n",
       "        vertical-align: top;\n",
       "    }\n",
       "\n",
       "    .dataframe thead th {\n",
       "        text-align: right;\n",
       "    }\n",
       "</style>\n",
       "<table border=\"1\" class=\"dataframe\">\n",
       "  <thead>\n",
       "    <tr style=\"text-align: right;\">\n",
       "      <th></th>\n",
       "      <th>temperature</th>\n",
       "      <th>humidity</th>\n",
       "      <th>visibility</th>\n",
       "      <th>pressure</th>\n",
       "      <th>windSpeed</th>\n",
       "      <th>cloudCover</th>\n",
       "      <th>windBearing</th>\n",
       "      <th>precipIntensity</th>\n",
       "      <th>dewPoint</th>\n",
       "      <th>precipProbability</th>\n",
       "    </tr>\n",
       "    <tr>\n",
       "      <th>time</th>\n",
       "      <th></th>\n",
       "      <th></th>\n",
       "      <th></th>\n",
       "      <th></th>\n",
       "      <th></th>\n",
       "      <th></th>\n",
       "      <th></th>\n",
       "      <th></th>\n",
       "      <th></th>\n",
       "      <th></th>\n",
       "    </tr>\n",
       "  </thead>\n",
       "  <tbody>\n",
       "    <tr>\n",
       "      <th>2014-03-25</th>\n",
       "      <td>0</td>\n",
       "      <td>0.502500</td>\n",
       "      <td>9.980417</td>\n",
       "      <td>1019.227917</td>\n",
       "      <td>5.948750</td>\n",
       "      <td>0.093750</td>\n",
       "      <td>225.791667</td>\n",
       "      <td>0.0</td>\n",
       "      <td>7.049167</td>\n",
       "      <td>0.0</td>\n",
       "    </tr>\n",
       "    <tr>\n",
       "      <th>2014-01-24</th>\n",
       "      <td>0</td>\n",
       "      <td>0.511250</td>\n",
       "      <td>9.900833</td>\n",
       "      <td>1023.582917</td>\n",
       "      <td>9.317083</td>\n",
       "      <td>0.004167</td>\n",
       "      <td>282.916667</td>\n",
       "      <td>0.0</td>\n",
       "      <td>-5.525417</td>\n",
       "      <td>0.0</td>\n",
       "    </tr>\n",
       "    <tr>\n",
       "      <th>2014-03-10</th>\n",
       "      <td>0</td>\n",
       "      <td>0.548750</td>\n",
       "      <td>9.705833</td>\n",
       "      <td>1009.652083</td>\n",
       "      <td>4.403333</td>\n",
       "      <td>0.286667</td>\n",
       "      <td>219.250000</td>\n",
       "      <td>0.0</td>\n",
       "      <td>17.985833</td>\n",
       "      <td>0.0</td>\n",
       "    </tr>\n",
       "    <tr>\n",
       "      <th>2014-02-28</th>\n",
       "      <td>0</td>\n",
       "      <td>0.414583</td>\n",
       "      <td>9.475000</td>\n",
       "      <td>1021.176250</td>\n",
       "      <td>10.675417</td>\n",
       "      <td>0.034583</td>\n",
       "      <td>294.125000</td>\n",
       "      <td>0.0</td>\n",
       "      <td>-7.362083</td>\n",
       "      <td>0.0</td>\n",
       "    </tr>\n",
       "    <tr>\n",
       "      <th>2014-11-19</th>\n",
       "      <td>0</td>\n",
       "      <td>0.415000</td>\n",
       "      <td>9.987500</td>\n",
       "      <td>1017.829583</td>\n",
       "      <td>8.675417</td>\n",
       "      <td>0.010417</td>\n",
       "      <td>236.916667</td>\n",
       "      <td>0.0</td>\n",
       "      <td>4.348333</td>\n",
       "      <td>0.0</td>\n",
       "    </tr>\n",
       "  </tbody>\n",
       "</table>\n",
       "</div>"
      ],
      "text/plain": [
       "            temperature  humidity  visibility     pressure  windSpeed  \\\n",
       "time                                                                    \n",
       "2014-03-25            0  0.502500    9.980417  1019.227917   5.948750   \n",
       "2014-01-24            0  0.511250    9.900833  1023.582917   9.317083   \n",
       "2014-03-10            0  0.548750    9.705833  1009.652083   4.403333   \n",
       "2014-02-28            0  0.414583    9.475000  1021.176250  10.675417   \n",
       "2014-11-19            0  0.415000    9.987500  1017.829583   8.675417   \n",
       "\n",
       "            cloudCover  windBearing  precipIntensity   dewPoint  \\\n",
       "time                                                              \n",
       "2014-03-25    0.093750   225.791667              0.0   7.049167   \n",
       "2014-01-24    0.004167   282.916667              0.0  -5.525417   \n",
       "2014-03-10    0.286667   219.250000              0.0  17.985833   \n",
       "2014-02-28    0.034583   294.125000              0.0  -7.362083   \n",
       "2014-11-19    0.010417   236.916667              0.0   4.348333   \n",
       "\n",
       "            precipProbability  \n",
       "time                           \n",
       "2014-03-25                0.0  \n",
       "2014-01-24                0.0  \n",
       "2014-03-10                0.0  \n",
       "2014-02-28                0.0  \n",
       "2014-11-19                0.0  "
      ]
     },
     "execution_count": 351,
     "metadata": {},
     "output_type": "execute_result"
    }
   ],
   "source": [
    "trainingDataMinorityUpSampled.head()"
   ]
  },
  {
   "cell_type": "markdown",
   "metadata": {},
   "source": [
    "Combining the Majority and Minority Classes"
   ]
  },
  {
   "cell_type": "code",
   "execution_count": 352,
   "metadata": {},
   "outputs": [],
   "source": [
    "trainingDataUpSampled = pd.concat([trainingDataMajority, trainingDataMinorityUpSampled])"
   ]
  },
  {
   "cell_type": "code",
   "execution_count": 353,
   "metadata": {},
   "outputs": [
    {
     "data": {
      "text/html": [
       "<div>\n",
       "<style scoped>\n",
       "    .dataframe tbody tr th:only-of-type {\n",
       "        vertical-align: middle;\n",
       "    }\n",
       "\n",
       "    .dataframe tbody tr th {\n",
       "        vertical-align: top;\n",
       "    }\n",
       "\n",
       "    .dataframe thead th {\n",
       "        text-align: right;\n",
       "    }\n",
       "</style>\n",
       "<table border=\"1\" class=\"dataframe\">\n",
       "  <thead>\n",
       "    <tr style=\"text-align: right;\">\n",
       "      <th></th>\n",
       "      <th>temperature</th>\n",
       "      <th>humidity</th>\n",
       "      <th>visibility</th>\n",
       "      <th>pressure</th>\n",
       "      <th>windSpeed</th>\n",
       "      <th>cloudCover</th>\n",
       "      <th>windBearing</th>\n",
       "      <th>precipIntensity</th>\n",
       "      <th>dewPoint</th>\n",
       "      <th>precipProbability</th>\n",
       "    </tr>\n",
       "    <tr>\n",
       "      <th>time</th>\n",
       "      <th></th>\n",
       "      <th></th>\n",
       "      <th></th>\n",
       "      <th></th>\n",
       "      <th></th>\n",
       "      <th></th>\n",
       "      <th></th>\n",
       "      <th></th>\n",
       "      <th></th>\n",
       "      <th></th>\n",
       "    </tr>\n",
       "  </thead>\n",
       "  <tbody>\n",
       "    <tr>\n",
       "      <th>2014-01-06</th>\n",
       "      <td>1</td>\n",
       "      <td>0.900417</td>\n",
       "      <td>4.062917</td>\n",
       "      <td>1003.460833</td>\n",
       "      <td>7.355833</td>\n",
       "      <td>1.000000</td>\n",
       "      <td>167.458333</td>\n",
       "      <td>0.026258</td>\n",
       "      <td>36.336250</td>\n",
       "      <td>0.460000</td>\n",
       "    </tr>\n",
       "    <tr>\n",
       "      <th>2014-01-11</th>\n",
       "      <td>1</td>\n",
       "      <td>0.942083</td>\n",
       "      <td>3.071250</td>\n",
       "      <td>1014.352500</td>\n",
       "      <td>5.228333</td>\n",
       "      <td>0.750000</td>\n",
       "      <td>170.125000</td>\n",
       "      <td>0.014592</td>\n",
       "      <td>38.967500</td>\n",
       "      <td>0.367917</td>\n",
       "    </tr>\n",
       "    <tr>\n",
       "      <th>2014-01-12</th>\n",
       "      <td>1</td>\n",
       "      <td>0.713333</td>\n",
       "      <td>9.512917</td>\n",
       "      <td>999.880000</td>\n",
       "      <td>12.111250</td>\n",
       "      <td>0.258182</td>\n",
       "      <td>269.458333</td>\n",
       "      <td>0.007767</td>\n",
       "      <td>35.260833</td>\n",
       "      <td>0.182083</td>\n",
       "    </tr>\n",
       "    <tr>\n",
       "      <th>2014-01-13</th>\n",
       "      <td>1</td>\n",
       "      <td>0.656250</td>\n",
       "      <td>9.949583</td>\n",
       "      <td>1016.915833</td>\n",
       "      <td>7.783750</td>\n",
       "      <td>0.046250</td>\n",
       "      <td>215.958333</td>\n",
       "      <td>0.000000</td>\n",
       "      <td>25.650000</td>\n",
       "      <td>0.000000</td>\n",
       "    </tr>\n",
       "    <tr>\n",
       "      <th>2014-01-14</th>\n",
       "      <td>1</td>\n",
       "      <td>0.834167</td>\n",
       "      <td>7.272500</td>\n",
       "      <td>1009.468333</td>\n",
       "      <td>6.647917</td>\n",
       "      <td>0.169231</td>\n",
       "      <td>203.791667</td>\n",
       "      <td>0.012871</td>\n",
       "      <td>39.278750</td>\n",
       "      <td>0.280000</td>\n",
       "    </tr>\n",
       "  </tbody>\n",
       "</table>\n",
       "</div>"
      ],
      "text/plain": [
       "            temperature  humidity  visibility     pressure  windSpeed  \\\n",
       "time                                                                    \n",
       "2014-01-06            1  0.900417    4.062917  1003.460833   7.355833   \n",
       "2014-01-11            1  0.942083    3.071250  1014.352500   5.228333   \n",
       "2014-01-12            1  0.713333    9.512917   999.880000  12.111250   \n",
       "2014-01-13            1  0.656250    9.949583  1016.915833   7.783750   \n",
       "2014-01-14            1  0.834167    7.272500  1009.468333   6.647917   \n",
       "\n",
       "            cloudCover  windBearing  precipIntensity   dewPoint  \\\n",
       "time                                                              \n",
       "2014-01-06    1.000000   167.458333         0.026258  36.336250   \n",
       "2014-01-11    0.750000   170.125000         0.014592  38.967500   \n",
       "2014-01-12    0.258182   269.458333         0.007767  35.260833   \n",
       "2014-01-13    0.046250   215.958333         0.000000  25.650000   \n",
       "2014-01-14    0.169231   203.791667         0.012871  39.278750   \n",
       "\n",
       "            precipProbability  \n",
       "time                           \n",
       "2014-01-06           0.460000  \n",
       "2014-01-11           0.367917  \n",
       "2014-01-12           0.182083  \n",
       "2014-01-13           0.000000  \n",
       "2014-01-14           0.280000  "
      ]
     },
     "execution_count": 353,
     "metadata": {},
     "output_type": "execute_result"
    }
   ],
   "source": [
    "trainingDataUpSampled.head()"
   ]
  },
  {
   "cell_type": "markdown",
   "metadata": {},
   "source": [
    "Check Value Counts for Temperature"
   ]
  },
  {
   "cell_type": "code",
   "execution_count": 354,
   "metadata": {},
   "outputs": [
    {
     "data": {
      "text/plain": [
       "1    254\n",
       "0    254\n",
       "Name: temperature, dtype: int64"
      ]
     },
     "execution_count": 354,
     "metadata": {},
     "output_type": "execute_result"
    }
   ],
   "source": [
    "trainingDataUpSampled.temperature.value_counts()"
   ]
  },
  {
   "cell_type": "markdown",
   "metadata": {},
   "source": [
    "Now both our classes are balanced. We can go forward with Logistic Regression"
   ]
  },
  {
   "cell_type": "markdown",
   "metadata": {},
   "source": [
    "Sorting the Up Sampled Data Set According to Date"
   ]
  },
  {
   "cell_type": "code",
   "execution_count": 355,
   "metadata": {},
   "outputs": [],
   "source": [
    "trainingDataUpSampled = trainingDataUpSampled.sort_index()"
   ]
  },
  {
   "cell_type": "markdown",
   "metadata": {},
   "source": [
    "Target Value to Train the Model to"
   ]
  },
  {
   "cell_type": "code",
   "execution_count": 356,
   "metadata": {},
   "outputs": [],
   "source": [
    "trainingDataTemp = trainingDataUpSampled.pop('temperature')"
   ]
  },
  {
   "cell_type": "markdown",
   "metadata": {},
   "source": [
    "Original Value of Temperature in December Dataset (Test Dataset)"
   ]
  },
  {
   "cell_type": "code",
   "execution_count": 357,
   "metadata": {},
   "outputs": [],
   "source": [
    "testingDataOriginal = testingData.pop('temperature')"
   ]
  },
  {
   "cell_type": "markdown",
   "metadata": {},
   "source": [
    "###### Logistic Regression"
   ]
  },
  {
   "cell_type": "code",
   "execution_count": 358,
   "metadata": {},
   "outputs": [],
   "source": [
    "logRegression = LogisticRegression()"
   ]
  },
  {
   "cell_type": "markdown",
   "metadata": {},
   "source": [
    "Checking how Logistic Regression works with all the features"
   ]
  },
  {
   "cell_type": "code",
   "execution_count": 359,
   "metadata": {},
   "outputs": [
    {
     "data": {
      "text/plain": [
       "LogisticRegression()"
      ]
     },
     "execution_count": 359,
     "metadata": {},
     "output_type": "execute_result"
    }
   ],
   "source": [
    "logRegression.fit(trainingDataUpSampled, trainingDataTemp)"
   ]
  },
  {
   "cell_type": "markdown",
   "metadata": {},
   "source": [
    "Coefficients of all the features"
   ]
  },
  {
   "cell_type": "code",
   "execution_count": 360,
   "metadata": {},
   "outputs": [
    {
     "data": {
      "text/plain": [
       "array([[-1.26782853,  1.71557383, -0.02980602,  0.493125  ,  0.16293526,\n",
       "        -0.02222055,  0.01984399,  0.72118295,  0.29117758]])"
      ]
     },
     "execution_count": 360,
     "metadata": {},
     "output_type": "execute_result"
    }
   ],
   "source": [
    "logRegression.coef_"
   ]
  },
  {
   "cell_type": "markdown",
   "metadata": {},
   "source": [
    "Getting a ranking of all the features using Recursive Feature Elimination (RSE)"
   ]
  },
  {
   "cell_type": "code",
   "execution_count": 361,
   "metadata": {},
   "outputs": [],
   "source": [
    "predictors = trainingDataUpSampled\n",
    "selector = RFE(logRegression, n_features_to_select=1)\n",
    "selector = selector.fit(predictors, trainingDataTemp)"
   ]
  },
  {
   "cell_type": "code",
   "execution_count": 362,
   "metadata": {},
   "outputs": [
    {
     "data": {
      "text/plain": [
       "array([1, 3, 7, 6, 5, 8, 9, 4, 2])"
      ]
     },
     "execution_count": 362,
     "metadata": {},
     "output_type": "execute_result"
    }
   ],
   "source": [
    "order = selector.ranking_\n",
    "order"
   ]
  },
  {
   "cell_type": "markdown",
   "metadata": {},
   "source": [
    "Predicting December Temperature Values"
   ]
  },
  {
   "cell_type": "code",
   "execution_count": 363,
   "metadata": {},
   "outputs": [],
   "source": [
    "y_pred = logRegression.predict(testingData)"
   ]
  },
  {
   "cell_type": "markdown",
   "metadata": {},
   "source": [
    "Checking the Accuracy of the Logistic Regression Classifier on Test Set"
   ]
  },
  {
   "cell_type": "code",
   "execution_count": 364,
   "metadata": {},
   "outputs": [
    {
     "name": "stdout",
     "output_type": "stream",
     "text": [
      "Accuracy of logistic regression classifier on test set: 0.68\n"
     ]
    }
   ],
   "source": [
    "print('Accuracy of logistic regression classifier on test set: {:.2f}'.format(logRegression.score(testingData, testingDataOriginal)))"
   ]
  },
  {
   "cell_type": "markdown",
   "metadata": {},
   "source": [
    "<b> As the accuracy is only 0.68 we need to remove some features from our model. </b>"
   ]
  },
  {
   "cell_type": "markdown",
   "metadata": {},
   "source": [
    "From the RFE Feature Rankings we can see that precipIntensity (Rank 9), windBearing (Rank 8), and visibility (Rank 7) are bad for our model, so we'll remove them as a feature."
   ]
  },
  {
   "cell_type": "markdown",
   "metadata": {},
   "source": [
    "Dropping 'precipIntensity', 'windBearing' and 'visibility' from the Training and Test Datasets"
   ]
  },
  {
   "cell_type": "code",
   "execution_count": 365,
   "metadata": {},
   "outputs": [],
   "source": [
    "trainingDataUpSampled = trainingDataUpSampled.drop(columns=['precipIntensity','windBearing','visibility'])\n",
    "testingData = testingData.drop(columns=['precipIntensity','windBearing','visibility'])"
   ]
  },
  {
   "cell_type": "markdown",
   "metadata": {},
   "source": [
    "Performing Logistic Regression again on the Updated Training Dataset"
   ]
  },
  {
   "cell_type": "code",
   "execution_count": 366,
   "metadata": {},
   "outputs": [
    {
     "data": {
      "text/plain": [
       "LogisticRegression()"
      ]
     },
     "execution_count": 366,
     "metadata": {},
     "output_type": "execute_result"
    }
   ],
   "source": [
    "logRegression.fit(trainingDataUpSampled, trainingDataTemp)"
   ]
  },
  {
   "cell_type": "markdown",
   "metadata": {},
   "source": [
    "Coefficients of all the current features"
   ]
  },
  {
   "cell_type": "code",
   "execution_count": 367,
   "metadata": {},
   "outputs": [
    {
     "data": {
      "text/plain": [
       "array([[-3.10493766, -0.00930979,  0.20190252, -0.99868793,  0.40906511,\n",
       "        -0.61663913]])"
      ]
     },
     "execution_count": 367,
     "metadata": {},
     "output_type": "execute_result"
    }
   ],
   "source": [
    "logRegression.coef_"
   ]
  },
  {
   "cell_type": "markdown",
   "metadata": {},
   "source": [
    "Using RFE again to get a ranking of the features"
   ]
  },
  {
   "cell_type": "code",
   "execution_count": 368,
   "metadata": {},
   "outputs": [],
   "source": [
    "predictors = trainingDataUpSampled\n",
    "selector = RFE(logRegression, n_features_to_select=1)\n",
    "selector = selector.fit(predictors, trainingDataTemp)"
   ]
  },
  {
   "cell_type": "code",
   "execution_count": 369,
   "metadata": {},
   "outputs": [
    {
     "data": {
      "text/plain": [
       "array([1, 6, 5, 2, 3, 4])"
      ]
     },
     "execution_count": 369,
     "metadata": {},
     "output_type": "execute_result"
    }
   ],
   "source": [
    "order = selector.ranking_\n",
    "order"
   ]
  },
  {
   "cell_type": "code",
   "execution_count": 370,
   "metadata": {},
   "outputs": [
    {
     "name": "stdout",
     "output_type": "stream",
     "text": [
      "Accuracy of logistic regression classifier on test set: 0.87\n"
     ]
    }
   ],
   "source": [
    "print('Accuracy of logistic regression classifier on test set: {:.2f}'.format(logRegression.score(testingData, testingDataOriginal)))"
   ]
  },
  {
   "cell_type": "markdown",
   "metadata": {},
   "source": [
    "<b> With an improvement in accuracy to 0.87 we know that the features remaining are excellent for your model. </b>"
   ]
  },
  {
   "cell_type": "markdown",
   "metadata": {},
   "source": [
    "Predicting the December Temperature Values with our new Updated Model"
   ]
  },
  {
   "cell_type": "code",
   "execution_count": 371,
   "metadata": {},
   "outputs": [],
   "source": [
    "y_pred = logRegression.predict(testingData)"
   ]
  },
  {
   "cell_type": "markdown",
   "metadata": {},
   "source": [
    "Constructing a Confusion Matrix based on the Original December Values and Predicted Values"
   ]
  },
  {
   "cell_type": "code",
   "execution_count": 372,
   "metadata": {},
   "outputs": [
    {
     "name": "stdout",
     "output_type": "stream",
     "text": [
      "[[15  3]\n",
      " [ 1 12]]\n"
     ]
    }
   ],
   "source": [
    "from sklearn.metrics import confusion_matrix\n",
    "confusion_matrix = confusion_matrix(testingDataOriginal, y_pred)\n",
    "print(confusion_matrix)"
   ]
  },
  {
   "cell_type": "markdown",
   "metadata": {},
   "source": [
    "The result is telling us that we have 15+12 (27) correct predictions and 1+3 (4) incorrect predictions."
   ]
  },
  {
   "cell_type": "code",
   "execution_count": 373,
   "metadata": {},
   "outputs": [
    {
     "name": "stdout",
     "output_type": "stream",
     "text": [
      "              precision    recall  f1-score   support\n",
      "\n",
      "           0       0.94      0.83      0.88        18\n",
      "           1       0.80      0.92      0.86        13\n",
      "\n",
      "    accuracy                           0.87        31\n",
      "   macro avg       0.87      0.88      0.87        31\n",
      "weighted avg       0.88      0.87      0.87        31\n",
      "\n"
     ]
    }
   ],
   "source": [
    "from sklearn.metrics import classification_report\n",
    "print(classification_report(testingDataOriginal, y_pred))"
   ]
  },
  {
   "cell_type": "markdown",
   "metadata": {},
   "source": [
    "<b> Interpretation: </b> Of the entire test set, we know that 87% of the values are the correct values for the december month. This means that our model is quite accurate."
   ]
  },
  {
   "cell_type": "markdown",
   "metadata": {},
   "source": [
    "##### F-1 Score"
   ]
  },
  {
   "cell_type": "markdown",
   "metadata": {},
   "source": [
    "F-1 Score of the model is 0.87"
   ]
  },
  {
   "cell_type": "markdown",
   "metadata": {},
   "source": [
    "Saving the Predicted Values to a CSV File"
   ]
  },
  {
   "cell_type": "code",
   "execution_count": 374,
   "metadata": {},
   "outputs": [],
   "source": [
    "file = pd.DataFrame(y_pred)"
   ]
  },
  {
   "cell_type": "code",
   "execution_count": 375,
   "metadata": {},
   "outputs": [],
   "source": [
    "file.rename_axis('date', inplace=True)"
   ]
  },
  {
   "cell_type": "code",
   "execution_count": 376,
   "metadata": {},
   "outputs": [
    {
     "data": {
      "text/html": [
       "<div>\n",
       "<style scoped>\n",
       "    .dataframe tbody tr th:only-of-type {\n",
       "        vertical-align: middle;\n",
       "    }\n",
       "\n",
       "    .dataframe tbody tr th {\n",
       "        vertical-align: top;\n",
       "    }\n",
       "\n",
       "    .dataframe thead th {\n",
       "        text-align: right;\n",
       "    }\n",
       "</style>\n",
       "<table border=\"1\" class=\"dataframe\">\n",
       "  <thead>\n",
       "    <tr style=\"text-align: right;\">\n",
       "      <th></th>\n",
       "      <th>Classification (1/0)</th>\n",
       "    </tr>\n",
       "    <tr>\n",
       "      <th>date</th>\n",
       "      <th></th>\n",
       "    </tr>\n",
       "  </thead>\n",
       "  <tbody>\n",
       "    <tr>\n",
       "      <th>0</th>\n",
       "      <td>1</td>\n",
       "    </tr>\n",
       "    <tr>\n",
       "      <th>1</th>\n",
       "      <td>0</td>\n",
       "    </tr>\n",
       "    <tr>\n",
       "      <th>2</th>\n",
       "      <td>1</td>\n",
       "    </tr>\n",
       "    <tr>\n",
       "      <th>3</th>\n",
       "      <td>0</td>\n",
       "    </tr>\n",
       "    <tr>\n",
       "      <th>4</th>\n",
       "      <td>0</td>\n",
       "    </tr>\n",
       "    <tr>\n",
       "      <th>5</th>\n",
       "      <td>1</td>\n",
       "    </tr>\n",
       "    <tr>\n",
       "      <th>6</th>\n",
       "      <td>0</td>\n",
       "    </tr>\n",
       "    <tr>\n",
       "      <th>7</th>\n",
       "      <td>0</td>\n",
       "    </tr>\n",
       "    <tr>\n",
       "      <th>8</th>\n",
       "      <td>0</td>\n",
       "    </tr>\n",
       "    <tr>\n",
       "      <th>9</th>\n",
       "      <td>1</td>\n",
       "    </tr>\n",
       "    <tr>\n",
       "      <th>10</th>\n",
       "      <td>0</td>\n",
       "    </tr>\n",
       "    <tr>\n",
       "      <th>11</th>\n",
       "      <td>0</td>\n",
       "    </tr>\n",
       "    <tr>\n",
       "      <th>12</th>\n",
       "      <td>0</td>\n",
       "    </tr>\n",
       "    <tr>\n",
       "      <th>13</th>\n",
       "      <td>1</td>\n",
       "    </tr>\n",
       "    <tr>\n",
       "      <th>14</th>\n",
       "      <td>1</td>\n",
       "    </tr>\n",
       "    <tr>\n",
       "      <th>15</th>\n",
       "      <td>0</td>\n",
       "    </tr>\n",
       "    <tr>\n",
       "      <th>16</th>\n",
       "      <td>1</td>\n",
       "    </tr>\n",
       "    <tr>\n",
       "      <th>17</th>\n",
       "      <td>1</td>\n",
       "    </tr>\n",
       "    <tr>\n",
       "      <th>18</th>\n",
       "      <td>0</td>\n",
       "    </tr>\n",
       "    <tr>\n",
       "      <th>19</th>\n",
       "      <td>0</td>\n",
       "    </tr>\n",
       "    <tr>\n",
       "      <th>20</th>\n",
       "      <td>0</td>\n",
       "    </tr>\n",
       "    <tr>\n",
       "      <th>21</th>\n",
       "      <td>1</td>\n",
       "    </tr>\n",
       "    <tr>\n",
       "      <th>22</th>\n",
       "      <td>1</td>\n",
       "    </tr>\n",
       "    <tr>\n",
       "      <th>23</th>\n",
       "      <td>1</td>\n",
       "    </tr>\n",
       "    <tr>\n",
       "      <th>24</th>\n",
       "      <td>1</td>\n",
       "    </tr>\n",
       "    <tr>\n",
       "      <th>25</th>\n",
       "      <td>1</td>\n",
       "    </tr>\n",
       "    <tr>\n",
       "      <th>26</th>\n",
       "      <td>1</td>\n",
       "    </tr>\n",
       "    <tr>\n",
       "      <th>27</th>\n",
       "      <td>1</td>\n",
       "    </tr>\n",
       "    <tr>\n",
       "      <th>28</th>\n",
       "      <td>0</td>\n",
       "    </tr>\n",
       "    <tr>\n",
       "      <th>29</th>\n",
       "      <td>0</td>\n",
       "    </tr>\n",
       "    <tr>\n",
       "      <th>30</th>\n",
       "      <td>0</td>\n",
       "    </tr>\n",
       "  </tbody>\n",
       "</table>\n",
       "</div>"
      ],
      "text/plain": [
       "      Classification (1/0)\n",
       "date                      \n",
       "0                        1\n",
       "1                        0\n",
       "2                        1\n",
       "3                        0\n",
       "4                        0\n",
       "5                        1\n",
       "6                        0\n",
       "7                        0\n",
       "8                        0\n",
       "9                        1\n",
       "10                       0\n",
       "11                       0\n",
       "12                       0\n",
       "13                       1\n",
       "14                       1\n",
       "15                       0\n",
       "16                       1\n",
       "17                       1\n",
       "18                       0\n",
       "19                       0\n",
       "20                       0\n",
       "21                       1\n",
       "22                       1\n",
       "23                       1\n",
       "24                       1\n",
       "25                       1\n",
       "26                       1\n",
       "27                       1\n",
       "28                       0\n",
       "29                       0\n",
       "30                       0"
      ]
     },
     "execution_count": 376,
     "metadata": {},
     "output_type": "execute_result"
    }
   ],
   "source": [
    "file.columns = [\"Classification (1/0)\"]\n",
    "file"
   ]
  },
  {
   "cell_type": "code",
   "execution_count": 377,
   "metadata": {},
   "outputs": [],
   "source": [
    "file.to_csv(r\"/Users/sahilsarna/Documents/CSE351/HW2/CSE351_HW2_SARNA_SAHIL_109918198_LOGISTIC_REGRESSION.csv\", index=True)"
   ]
  },
  {
   "cell_type": "markdown",
   "metadata": {},
   "source": [
    "------"
   ]
  },
  {
   "cell_type": "markdown",
   "metadata": {},
   "source": [
    "### Task 5"
   ]
  },
  {
   "cell_type": "code",
   "execution_count": 378,
   "metadata": {},
   "outputs": [
    {
     "data": {
      "text/html": [
       "<div>\n",
       "<style scoped>\n",
       "    .dataframe tbody tr th:only-of-type {\n",
       "        vertical-align: middle;\n",
       "    }\n",
       "\n",
       "    .dataframe tbody tr th {\n",
       "        vertical-align: top;\n",
       "    }\n",
       "\n",
       "    .dataframe thead th {\n",
       "        text-align: right;\n",
       "    }\n",
       "</style>\n",
       "<table border=\"1\" class=\"dataframe\">\n",
       "  <thead>\n",
       "    <tr style=\"text-align: right;\">\n",
       "      <th></th>\n",
       "      <th>Date &amp; Time</th>\n",
       "      <th>use [kW]</th>\n",
       "      <th>gen [kW]</th>\n",
       "      <th>Grid [kW]</th>\n",
       "      <th>AC [kW]</th>\n",
       "      <th>Furnace [kW]</th>\n",
       "      <th>Cellar Lights [kW]</th>\n",
       "      <th>Washer [kW]</th>\n",
       "      <th>First Floor lights [kW]</th>\n",
       "      <th>Utility Rm + Basement Bath [kW]</th>\n",
       "      <th>Garage outlets [kW]</th>\n",
       "      <th>MBed + KBed outlets [kW]</th>\n",
       "      <th>Dryer + egauge [kW]</th>\n",
       "      <th>Panel GFI (central vac) [kW]</th>\n",
       "      <th>Home Office (R) [kW]</th>\n",
       "      <th>Dining room (R) [kW]</th>\n",
       "      <th>Microwave (R) [kW]</th>\n",
       "      <th>Fridge (R) [kW]</th>\n",
       "    </tr>\n",
       "  </thead>\n",
       "  <tbody>\n",
       "    <tr>\n",
       "      <th>0</th>\n",
       "      <td>2014-01-01 00:00:00</td>\n",
       "      <td>0.304439</td>\n",
       "      <td>0</td>\n",
       "      <td>0.304439</td>\n",
       "      <td>0.000058</td>\n",
       "      <td>0.009531</td>\n",
       "      <td>0.005336</td>\n",
       "      <td>0.000126</td>\n",
       "      <td>0.011175</td>\n",
       "      <td>0.003836</td>\n",
       "      <td>0.004836</td>\n",
       "      <td>0.002132</td>\n",
       "      <td>0.000009</td>\n",
       "      <td>0.007159</td>\n",
       "      <td>0.063666</td>\n",
       "      <td>0.004299</td>\n",
       "      <td>0.004733</td>\n",
       "      <td>0.042589</td>\n",
       "    </tr>\n",
       "    <tr>\n",
       "      <th>1</th>\n",
       "      <td>2014-01-01 00:30:00</td>\n",
       "      <td>0.656771</td>\n",
       "      <td>0</td>\n",
       "      <td>0.656771</td>\n",
       "      <td>0.001534</td>\n",
       "      <td>0.364338</td>\n",
       "      <td>0.005522</td>\n",
       "      <td>0.000043</td>\n",
       "      <td>0.003514</td>\n",
       "      <td>0.003512</td>\n",
       "      <td>0.004888</td>\n",
       "      <td>0.002137</td>\n",
       "      <td>0.000107</td>\n",
       "      <td>0.007221</td>\n",
       "      <td>0.064698</td>\n",
       "      <td>0.003589</td>\n",
       "      <td>0.004445</td>\n",
       "      <td>0.096008</td>\n",
       "    </tr>\n",
       "    <tr>\n",
       "      <th>2</th>\n",
       "      <td>2014-01-01 01:00:00</td>\n",
       "      <td>0.612895</td>\n",
       "      <td>0</td>\n",
       "      <td>0.612895</td>\n",
       "      <td>0.001847</td>\n",
       "      <td>0.417989</td>\n",
       "      <td>0.005504</td>\n",
       "      <td>0.000044</td>\n",
       "      <td>0.003528</td>\n",
       "      <td>0.003484</td>\n",
       "      <td>0.004929</td>\n",
       "      <td>0.002052</td>\n",
       "      <td>0.000170</td>\n",
       "      <td>0.007197</td>\n",
       "      <td>0.065109</td>\n",
       "      <td>0.003522</td>\n",
       "      <td>0.004396</td>\n",
       "      <td>0.025928</td>\n",
       "    </tr>\n",
       "    <tr>\n",
       "      <th>3</th>\n",
       "      <td>2014-01-01 01:30:00</td>\n",
       "      <td>0.683979</td>\n",
       "      <td>0</td>\n",
       "      <td>0.683979</td>\n",
       "      <td>0.001744</td>\n",
       "      <td>0.410653</td>\n",
       "      <td>0.005556</td>\n",
       "      <td>0.000059</td>\n",
       "      <td>0.003499</td>\n",
       "      <td>0.003476</td>\n",
       "      <td>0.004911</td>\n",
       "      <td>0.002068</td>\n",
       "      <td>0.000121</td>\n",
       "      <td>0.007236</td>\n",
       "      <td>0.065032</td>\n",
       "      <td>0.003404</td>\n",
       "      <td>0.004262</td>\n",
       "      <td>0.105472</td>\n",
       "    </tr>\n",
       "    <tr>\n",
       "      <th>4</th>\n",
       "      <td>2014-01-01 02:00:00</td>\n",
       "      <td>0.197809</td>\n",
       "      <td>0</td>\n",
       "      <td>0.197809</td>\n",
       "      <td>0.000030</td>\n",
       "      <td>0.017152</td>\n",
       "      <td>0.005302</td>\n",
       "      <td>0.000119</td>\n",
       "      <td>0.003694</td>\n",
       "      <td>0.003865</td>\n",
       "      <td>0.004876</td>\n",
       "      <td>0.002087</td>\n",
       "      <td>0.000052</td>\n",
       "      <td>0.007133</td>\n",
       "      <td>0.062451</td>\n",
       "      <td>0.003915</td>\n",
       "      <td>0.004407</td>\n",
       "      <td>0.016798</td>\n",
       "    </tr>\n",
       "  </tbody>\n",
       "</table>\n",
       "</div>"
      ],
      "text/plain": [
       "          Date & Time  use [kW]  gen [kW]  Grid [kW]   AC [kW]  Furnace [kW]  \\\n",
       "0 2014-01-01 00:00:00  0.304439         0   0.304439  0.000058      0.009531   \n",
       "1 2014-01-01 00:30:00  0.656771         0   0.656771  0.001534      0.364338   \n",
       "2 2014-01-01 01:00:00  0.612895         0   0.612895  0.001847      0.417989   \n",
       "3 2014-01-01 01:30:00  0.683979         0   0.683979  0.001744      0.410653   \n",
       "4 2014-01-01 02:00:00  0.197809         0   0.197809  0.000030      0.017152   \n",
       "\n",
       "   Cellar Lights [kW]  Washer [kW]  First Floor lights [kW]  \\\n",
       "0            0.005336     0.000126                 0.011175   \n",
       "1            0.005522     0.000043                 0.003514   \n",
       "2            0.005504     0.000044                 0.003528   \n",
       "3            0.005556     0.000059                 0.003499   \n",
       "4            0.005302     0.000119                 0.003694   \n",
       "\n",
       "   Utility Rm + Basement Bath [kW]  Garage outlets [kW]  \\\n",
       "0                         0.003836             0.004836   \n",
       "1                         0.003512             0.004888   \n",
       "2                         0.003484             0.004929   \n",
       "3                         0.003476             0.004911   \n",
       "4                         0.003865             0.004876   \n",
       "\n",
       "   MBed + KBed outlets [kW]  Dryer + egauge [kW]  \\\n",
       "0                  0.002132             0.000009   \n",
       "1                  0.002137             0.000107   \n",
       "2                  0.002052             0.000170   \n",
       "3                  0.002068             0.000121   \n",
       "4                  0.002087             0.000052   \n",
       "\n",
       "   Panel GFI (central vac) [kW]  Home Office (R) [kW]  Dining room (R) [kW]  \\\n",
       "0                      0.007159              0.063666              0.004299   \n",
       "1                      0.007221              0.064698              0.003589   \n",
       "2                      0.007197              0.065109              0.003522   \n",
       "3                      0.007236              0.065032              0.003404   \n",
       "4                      0.007133              0.062451              0.003915   \n",
       "\n",
       "   Microwave (R) [kW]  Fridge (R) [kW]  \n",
       "0            0.004733         0.042589  \n",
       "1            0.004445         0.096008  \n",
       "2            0.004396         0.025928  \n",
       "3            0.004262         0.105472  \n",
       "4            0.004407         0.016798  "
      ]
     },
     "execution_count": 378,
     "metadata": {},
     "output_type": "execute_result"
    }
   ],
   "source": [
    "energyData.head()"
   ]
  },
  {
   "cell_type": "markdown",
   "metadata": {},
   "source": [
    "Creating a Day-Time Time Mask"
   ]
  },
  {
   "cell_type": "code",
   "execution_count": 379,
   "metadata": {},
   "outputs": [],
   "source": [
    "dayTime_mask = (energyData['Date & Time'].dt.hour >= 6) & (energyData['Date & Time'].dt.hour < 19)"
   ]
  },
  {
   "cell_type": "markdown",
   "metadata": {},
   "source": [
    "Creating a Night-Time Time Mask"
   ]
  },
  {
   "cell_type": "code",
   "execution_count": 380,
   "metadata": {},
   "outputs": [],
   "source": [
    "nightTime_mask = (energyData['Date & Time'].dt.hour < 6) | (energyData['Date & Time'].dt.hour >= 19)"
   ]
  },
  {
   "cell_type": "markdown",
   "metadata": {},
   "source": [
    "Day Data (Starts at 6AM, ends at 7PM)"
   ]
  },
  {
   "cell_type": "code",
   "execution_count": 381,
   "metadata": {},
   "outputs": [],
   "source": [
    "dayEnergyData = energyData.mask(nightTime_mask, other=np.nan)"
   ]
  },
  {
   "cell_type": "markdown",
   "metadata": {},
   "source": [
    "Night Data (Starting at 7PM, Ends at 6AM)"
   ]
  },
  {
   "cell_type": "code",
   "execution_count": 382,
   "metadata": {},
   "outputs": [],
   "source": [
    "nightEnergyData = energyData.mask(dayTime_mask, other=np.nan)"
   ]
  },
  {
   "cell_type": "markdown",
   "metadata": {},
   "source": [
    "### Plotting Device Trends"
   ]
  },
  {
   "cell_type": "markdown",
   "metadata": {},
   "source": [
    "Day Time Device"
   ]
  },
  {
   "cell_type": "markdown",
   "metadata": {},
   "source": [
    "Plotting All the Devices Irrespective of Day and Night"
   ]
  },
  {
   "cell_type": "code",
   "execution_count": 383,
   "metadata": {},
   "outputs": [
    {
     "data": {
      "image/png": "[encoded data removed]",
      "text/plain": [
       "<Figure size 1080x2160 with 18 Axes>"
      ]
     },
     "metadata": {
      "needs_background": "light"
     },
     "output_type": "display_data"
    }
   ],
   "source": [
    "plt.figure(figsize=(15,30))\n",
    "for i in range(len(energyData.columns)):\n",
    "    plt.subplot(len(energyData.columns), 1, i+1)\n",
    "    name = energyData.columns[i]\n",
    "    plt.plot(energyData[name])\n",
    "    plt.title(name, y=0)\n",
    "plt.show()"
   ]
  },
  {
   "cell_type": "markdown",
   "metadata": {},
   "source": [
    "#### DEVICE 1 : Air Conditioning"
   ]
  },
  {
   "cell_type": "markdown",
   "metadata": {},
   "source": [
    "Day-Time Usage"
   ]
  },
  {
   "cell_type": "code",
   "execution_count": 384,
   "metadata": {},
   "outputs": [
    {
     "data": {
      "image/png": "[encoded data removed]",
      "text/plain": [
       "<Figure size 792x576 with 1 Axes>"
      ]
     },
     "metadata": {
      "needs_background": "light"
     },
     "output_type": "display_data"
    }
   ],
   "source": [
    "plt.figure(figsize=(11,8))\n",
    "plt.plot(dayEnergyData['AC [kW]'])\n",
    "plt.title('AC [kW]', y=0)\n",
    "plt.show()"
   ]
  },
  {
   "cell_type": "markdown",
   "metadata": {},
   "source": [
    "Night-Time Usage"
   ]
  },
  {
   "cell_type": "code",
   "execution_count": 385,
   "metadata": {},
   "outputs": [
    {
     "data": {
      "image/png": "[encoded data removed]",
      "text/plain": [
       "<Figure size 792x576 with 1 Axes>"
      ]
     },
     "metadata": {
      "needs_background": "light"
     },
     "output_type": "display_data"
    }
   ],
   "source": [
    "plt.figure(figsize=(11,8))\n",
    "plt.plot(nightEnergyData['AC [kW]'])\n",
    "plt.title('AC [kW]', y=0)\n",
    "plt.show()"
   ]
  },
  {
   "cell_type": "markdown",
   "metadata": {},
   "source": [
    "##### Findings\n",
    "- Since our data starts from January, and the only usage of Air-Conditioning is in the middle of the graph, we can easily say that AC is mostly used during the summer time. \n",
    "- We can also see that, it is used more at nights compared to during the day. This could be due to:\n",
    "    - People are not at home during the day so almost all the electronics are off.\n",
    "    - People are at home at night and hence the usage is more and during the hot summer nights, people might want their AC to be on throughout the night"
   ]
  },
  {
   "cell_type": "code",
   "execution_count": 386,
   "metadata": {},
   "outputs": [
    {
     "data": {
      "image/png": "[encoded data removed]",
      "text/plain": [
       "<Figure size 792x576 with 1 Axes>"
      ]
     },
     "metadata": {
      "needs_background": "light"
     },
     "output_type": "display_data"
    }
   ],
   "source": [
    "plt.figure(figsize=(11,8))\n",
    "plt.plot(dayEnergyData['Washer [kW]'])\n",
    "plt.title('Washer [kW]', y=0)\n",
    "plt.show()"
   ]
  },
  {
   "cell_type": "code",
   "execution_count": 387,
   "metadata": {},
   "outputs": [
    {
     "data": {
      "image/png": "[encoded data removed]",
      "text/plain": [
       "<Figure size 792x576 with 1 Axes>"
      ]
     },
     "metadata": {
      "needs_background": "light"
     },
     "output_type": "display_data"
    }
   ],
   "source": [
    "plt.figure(figsize=(11,8))\n",
    "plt.plot(nightEnergyData['Washer [kW]'])\n",
    "plt.title('Washer [kW]', y=0)\n",
    "plt.show()"
   ]
  },
  {
   "cell_type": "markdown",
   "metadata": {},
   "source": [
    "##### Findings\n",
    "- Immediately looking at the Night Usage and Day Usage of Washer we can see that people use the washer mostly during the day.\n",
    "- People tend to use the washer at almost uniform periods of times which makes sense as you don't need to wash clothes every day and you'll only run the washer once or twice every week. So if you usually wash clothes on a Friday, you'll mostly likely wash the next set of clothes around the next Friday only. That's why there are uniform time-intervals. "
   ]
  },
  {
   "cell_type": "markdown",
   "metadata": {},
   "source": [
    "---"
   ]
  }
 ],
 "metadata": {
  "kernelspec": {
   "display_name": "Python 3",
   "language": "python",
   "name": "python3"
  },
  "language_info": {
   "codemirror_mode": {
    "name": "ipython",
    "version": 3
   },
   "file_extension": ".py",
   "mimetype": "text/x-python",
   "name": "python",
   "nbconvert_exporter": "python",
   "pygments_lexer": "ipython3",
   "version": "3.7.9"
  }
 },
 "nbformat": 4,
 "nbformat_minor": 4
}
